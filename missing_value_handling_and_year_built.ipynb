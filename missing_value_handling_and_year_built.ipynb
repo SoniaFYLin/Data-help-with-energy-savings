{
 "cells": [
  {
   "cell_type": "code",
   "execution_count": 1,
   "id": "f8c11598",
   "metadata": {},
   "outputs": [],
   "source": [
    "import pandas as pd\n",
    "import numpy as np\n",
    "import matplotlib.pyplot as plt\n",
    "import seaborn as sns\n",
    "from sklearn.model_selection import train_test_split\n",
    "from sklearn.metrics import r2_score, mean_squared_error\n",
    "\n",
    "from keras import models\n",
    "from keras import layers\n",
    "from keras import optimizers"
   ]
  },
  {
   "cell_type": "markdown",
   "id": "bdb2b325",
   "metadata": {},
   "source": [
    "## Look into details of missing values\n",
    "#### Step1: Check missing values in both train.csv and test.csv\n",
    "#### Step2: Check the missing proportional of each column \n",
    "#### Step3: Check the correlation between missing features and 'site_eui' to get the importantce of that feature"
   ]
  },
  {
   "cell_type": "code",
   "execution_count": 2,
   "id": "3956e7d5",
   "metadata": {},
   "outputs": [
    {
     "name": "stdout",
     "output_type": "stream",
     "text": [
      "(75757, 64)\n",
      "(9705, 63)\n"
     ]
    }
   ],
   "source": [
    "## Step1: read original train and test datasets\n",
    "df_train= pd.read_csv('Data/train.csv')\n",
    "df_test = pd.read_csv('Data/test.csv')\n",
    "print(df_train.shape)\n",
    "print(df_test.shape)"
   ]
  },
  {
   "cell_type": "code",
   "execution_count": 3,
   "id": "cd4901df",
   "metadata": {},
   "outputs": [
    {
     "data": {
      "text/plain": [
       "Year_Factor                      0\n",
       "State_Factor                     0\n",
       "building_class                   0\n",
       "facility_type                    0\n",
       "floor_area                       0\n",
       "                             ...  \n",
       "direction_peak_wind_speed    41811\n",
       "max_wind_speed               41082\n",
       "days_with_fog                45796\n",
       "site_eui                         0\n",
       "id                               0\n",
       "Length: 64, dtype: int64"
      ]
     },
     "execution_count": 3,
     "metadata": {},
     "output_type": "execute_result"
    }
   ],
   "source": [
    "## find if there are missing data for df_train\n",
    "np.sum(df_train.isnull())"
   ]
  },
  {
   "cell_type": "code",
   "execution_count": 4,
   "id": "c2d0da26",
   "metadata": {},
   "outputs": [
    {
     "data": {
      "text/plain": [
       "Year_Factor                     0\n",
       "State_Factor                    0\n",
       "building_class                  0\n",
       "facility_type                   0\n",
       "floor_area                      0\n",
       "                             ... \n",
       "direction_max_wind_speed     8575\n",
       "direction_peak_wind_speed    8575\n",
       "max_wind_speed               8575\n",
       "days_with_fog                9117\n",
       "id                              0\n",
       "Length: 63, dtype: int64"
      ]
     },
     "execution_count": 4,
     "metadata": {},
     "output_type": "execute_result"
    }
   ],
   "source": [
    "## find if there are missing data for df_test\n",
    "np.sum(df_test.isnull())"
   ]
  },
  {
   "cell_type": "code",
   "execution_count": 137,
   "id": "7077aad7",
   "metadata": {},
   "outputs": [
    {
     "data": {
      "text/plain": [
       "Index(['Year_Factor', 'State_Factor', 'building_class', 'facility_type',\n",
       "       'floor_area', 'ELEVATION', 'january_min_temp', 'january_avg_temp',\n",
       "       'january_max_temp', 'february_min_temp', 'february_avg_temp',\n",
       "       'february_max_temp', 'march_min_temp', 'march_avg_temp',\n",
       "       'march_max_temp', 'april_min_temp', 'april_avg_temp', 'april_max_temp',\n",
       "       'may_min_temp', 'may_avg_temp', 'may_max_temp', 'june_min_temp',\n",
       "       'june_avg_temp', 'june_max_temp', 'july_min_temp', 'july_avg_temp',\n",
       "       'july_max_temp', 'august_min_temp', 'august_avg_temp',\n",
       "       'august_max_temp', 'september_min_temp', 'september_avg_temp',\n",
       "       'september_max_temp', 'october_min_temp', 'october_avg_temp',\n",
       "       'october_max_temp', 'november_min_temp', 'november_avg_temp',\n",
       "       'november_max_temp', 'december_min_temp', 'december_avg_temp',\n",
       "       'december_max_temp', 'cooling_degree_days', 'heating_degree_days',\n",
       "       'precipitation_inches', 'snowfall_inches', 'snowdepth_inches',\n",
       "       'avg_temp', 'days_below_30F', 'days_below_20F', 'days_below_10F',\n",
       "       'days_below_0F', 'days_above_80F', 'days_above_90F', 'days_above_100F',\n",
       "       'days_above_110F', 'site_eui', 'id'],\n",
       "      dtype='object')"
      ]
     },
     "execution_count": 137,
     "metadata": {},
     "output_type": "execute_result"
    }
   ],
   "source": [
    "## find the columns which has no missing values\n",
    "df_train.columns[np.sum(df_train.isnull())==0]"
   ]
  },
  {
   "cell_type": "markdown",
   "id": "05b59acb",
   "metadata": {},
   "source": []
  },
  {
   "cell_type": "code",
   "execution_count": 5,
   "id": "481da8c2",
   "metadata": {},
   "outputs": [
    {
     "name": "stdout",
     "output_type": "stream",
     "text": [
      "Index(['year_built', 'energy_star_rating', 'direction_max_wind_speed',\n",
      "       'direction_peak_wind_speed', 'max_wind_speed', 'days_with_fog'],\n",
      "      dtype='object')\n",
      "Index(['year_built', 'energy_star_rating', 'direction_max_wind_speed',\n",
      "       'direction_peak_wind_speed', 'max_wind_speed', 'days_with_fog'],\n",
      "      dtype='object')\n"
     ]
    }
   ],
   "source": [
    "## Step2: Find the columns which has missing values and calculate their missing propertiona\n",
    "## Find the columns which has missing values for df_train and df_test\n",
    "print (df_train.columns[np.sum(df_train.isnull())!=0])\n",
    "print (df_test.columns[np.sum(df_test.isnull())!=0])"
   ]
  },
  {
   "cell_type": "code",
   "execution_count": 6,
   "id": "665cab0e",
   "metadata": {},
   "outputs": [
    {
     "data": {
      "text/html": [
       "<div>\n",
       "<style scoped>\n",
       "    .dataframe tbody tr th:only-of-type {\n",
       "        vertical-align: middle;\n",
       "    }\n",
       "\n",
       "    .dataframe tbody tr th {\n",
       "        vertical-align: top;\n",
       "    }\n",
       "\n",
       "    .dataframe thead th {\n",
       "        text-align: right;\n",
       "    }\n",
       "</style>\n",
       "<table border=\"1\" class=\"dataframe\">\n",
       "  <thead>\n",
       "    <tr style=\"text-align: right;\">\n",
       "      <th></th>\n",
       "      <th>year_built</th>\n",
       "      <th>energy_star_rating</th>\n",
       "      <th>direction_max_wind_speed</th>\n",
       "      <th>direction_peak_wind_speed</th>\n",
       "      <th>max_wind_speed</th>\n",
       "      <th>days_with_fog</th>\n",
       "    </tr>\n",
       "  </thead>\n",
       "  <tbody>\n",
       "    <tr>\n",
       "      <th>0</th>\n",
       "      <td>1942.0</td>\n",
       "      <td>11.0</td>\n",
       "      <td>1.0</td>\n",
       "      <td>1.0</td>\n",
       "      <td>1.0</td>\n",
       "      <td>NaN</td>\n",
       "    </tr>\n",
       "    <tr>\n",
       "      <th>1</th>\n",
       "      <td>1955.0</td>\n",
       "      <td>45.0</td>\n",
       "      <td>1.0</td>\n",
       "      <td>NaN</td>\n",
       "      <td>1.0</td>\n",
       "      <td>12.0</td>\n",
       "    </tr>\n",
       "    <tr>\n",
       "      <th>2</th>\n",
       "      <td>1951.0</td>\n",
       "      <td>97.0</td>\n",
       "      <td>1.0</td>\n",
       "      <td>NaN</td>\n",
       "      <td>1.0</td>\n",
       "      <td>12.0</td>\n",
       "    </tr>\n",
       "    <tr>\n",
       "      <th>3</th>\n",
       "      <td>1980.0</td>\n",
       "      <td>46.0</td>\n",
       "      <td>1.0</td>\n",
       "      <td>NaN</td>\n",
       "      <td>1.0</td>\n",
       "      <td>12.0</td>\n",
       "    </tr>\n",
       "    <tr>\n",
       "      <th>4</th>\n",
       "      <td>1985.0</td>\n",
       "      <td>100.0</td>\n",
       "      <td>1.0</td>\n",
       "      <td>1.0</td>\n",
       "      <td>1.0</td>\n",
       "      <td>NaN</td>\n",
       "    </tr>\n",
       "  </tbody>\n",
       "</table>\n",
       "</div>"
      ],
      "text/plain": [
       "   year_built  energy_star_rating  direction_max_wind_speed  \\\n",
       "0      1942.0                11.0                       1.0   \n",
       "1      1955.0                45.0                       1.0   \n",
       "2      1951.0                97.0                       1.0   \n",
       "3      1980.0                46.0                       1.0   \n",
       "4      1985.0               100.0                       1.0   \n",
       "\n",
       "   direction_peak_wind_speed  max_wind_speed  days_with_fog  \n",
       "0                        1.0             1.0            NaN  \n",
       "1                        NaN             1.0           12.0  \n",
       "2                        NaN             1.0           12.0  \n",
       "3                        NaN             1.0           12.0  \n",
       "4                        1.0             1.0            NaN  "
      ]
     },
     "execution_count": 6,
     "metadata": {},
     "output_type": "execute_result"
    }
   ],
   "source": [
    "## Find the data type of missing values \n",
    "df_train_missing=df_train[['year_built', 'energy_star_rating', 'direction_max_wind_speed',\n",
    "       'direction_peak_wind_speed', 'max_wind_speed', 'days_with_fog']]\n",
    "df_train_missing.head()"
   ]
  },
  {
   "cell_type": "code",
   "execution_count": 48,
   "id": "75f09c7c",
   "metadata": {},
   "outputs": [
    {
     "data": {
      "text/plain": [
       "year_built                  0.0242\n",
       "energy_star_rating          0.3526\n",
       "direction_max_wind_speed    0.5423\n",
       "direction_peak_wind_speed   0.5519\n",
       "max_wind_speed              0.5423\n",
       "days_with_fog               0.6045\n",
       "dtype: float64"
      ]
     },
     "execution_count": 48,
     "metadata": {},
     "output_type": "execute_result"
    }
   ],
   "source": [
    "## get percentage of null in each column of df_train\n",
    "pd.options.display.float_format = '{:.4f}'.format\n",
    "df_train_missing_rate = np.sum(df_train_missing.isnull())/df_train.shape[0]\n",
    "df_train_missing_rate"
   ]
  },
  {
   "cell_type": "code",
   "execution_count": 49,
   "id": "08864a02",
   "metadata": {},
   "outputs": [
    {
     "data": {
      "text/plain": [
       "year_built                  0.0242\n",
       "energy_star_rating          0.3526\n",
       "direction_max_wind_speed    0.5423\n",
       "direction_peak_wind_speed   0.5519\n",
       "max_wind_speed              0.5423\n",
       "days_with_fog               0.6045\n",
       "dtype: float64"
      ]
     },
     "execution_count": 49,
     "metadata": {},
     "output_type": "execute_result"
    }
   ],
   "source": [
    "## get percentage of null in each column of df_test\n",
    "df_test_missing=df_test[['year_built', 'energy_star_rating', 'direction_max_wind_speed',\n",
    "       'direction_peak_wind_speed', 'max_wind_speed', 'days_with_fog']]\n",
    "df_test_missing_rate=np.sum(df_test_missing.isnull())/df_test.shape[0]\n",
    "df_train_missing_rate\n"
   ]
  },
  {
   "cell_type": "code",
   "execution_count": null,
   "id": "7fe3c27b",
   "metadata": {},
   "outputs": [],
   "source": []
  },
  {
   "cell_type": "code",
   "execution_count": null,
   "id": "41f6fd17",
   "metadata": {},
   "outputs": [],
   "source": []
  },
  {
   "cell_type": "code",
   "execution_count": 53,
   "id": "5c512423",
   "metadata": {},
   "outputs": [
    {
     "data": {
      "text/html": [
       "<div>\n",
       "<style scoped>\n",
       "    .dataframe tbody tr th:only-of-type {\n",
       "        vertical-align: middle;\n",
       "    }\n",
       "\n",
       "    .dataframe tbody tr th {\n",
       "        vertical-align: top;\n",
       "    }\n",
       "\n",
       "    .dataframe thead th {\n",
       "        text-align: right;\n",
       "    }\n",
       "</style>\n",
       "<table border=\"1\" class=\"dataframe\">\n",
       "  <thead>\n",
       "    <tr style=\"text-align: right;\">\n",
       "      <th></th>\n",
       "      <th>year_built</th>\n",
       "      <th>energy_star_rating</th>\n",
       "      <th>direction_max_wind_speed</th>\n",
       "      <th>direction_peak_wind_speed</th>\n",
       "      <th>max_wind_speed</th>\n",
       "      <th>days_with_fog</th>\n",
       "      <th>site_eui</th>\n",
       "    </tr>\n",
       "  </thead>\n",
       "  <tbody>\n",
       "    <tr>\n",
       "      <th>year_built</th>\n",
       "      <td>1.0000</td>\n",
       "      <td>-0.0739</td>\n",
       "      <td>0.0012</td>\n",
       "      <td>-0.0096</td>\n",
       "      <td>0.0049</td>\n",
       "      <td>0.0842</td>\n",
       "      <td>0.0172</td>\n",
       "    </tr>\n",
       "    <tr>\n",
       "      <th>energy_star_rating</th>\n",
       "      <td>-0.0739</td>\n",
       "      <td>1.0000</td>\n",
       "      <td>-0.0010</td>\n",
       "      <td>0.0020</td>\n",
       "      <td>-0.0003</td>\n",
       "      <td>0.0194</td>\n",
       "      <td>-0.5110</td>\n",
       "    </tr>\n",
       "    <tr>\n",
       "      <th>direction_max_wind_speed</th>\n",
       "      <td>0.0012</td>\n",
       "      <td>-0.0010</td>\n",
       "      <td>1.0000</td>\n",
       "      <td>0.9998</td>\n",
       "      <td>0.9888</td>\n",
       "      <td>0.3304</td>\n",
       "      <td>0.0102</td>\n",
       "    </tr>\n",
       "    <tr>\n",
       "      <th>direction_peak_wind_speed</th>\n",
       "      <td>-0.0096</td>\n",
       "      <td>0.0020</td>\n",
       "      <td>0.9998</td>\n",
       "      <td>1.0000</td>\n",
       "      <td>0.9922</td>\n",
       "      <td>0.3301</td>\n",
       "      <td>0.0136</td>\n",
       "    </tr>\n",
       "    <tr>\n",
       "      <th>max_wind_speed</th>\n",
       "      <td>0.0049</td>\n",
       "      <td>-0.0003</td>\n",
       "      <td>0.9888</td>\n",
       "      <td>0.9922</td>\n",
       "      <td>1.0000</td>\n",
       "      <td>0.3540</td>\n",
       "      <td>0.0106</td>\n",
       "    </tr>\n",
       "    <tr>\n",
       "      <th>days_with_fog</th>\n",
       "      <td>0.0842</td>\n",
       "      <td>0.0194</td>\n",
       "      <td>0.3304</td>\n",
       "      <td>0.3301</td>\n",
       "      <td>0.3540</td>\n",
       "      <td>1.0000</td>\n",
       "      <td>-0.0554</td>\n",
       "    </tr>\n",
       "    <tr>\n",
       "      <th>site_eui</th>\n",
       "      <td>0.0172</td>\n",
       "      <td>-0.5110</td>\n",
       "      <td>0.0102</td>\n",
       "      <td>0.0136</td>\n",
       "      <td>0.0106</td>\n",
       "      <td>-0.0554</td>\n",
       "      <td>1.0000</td>\n",
       "    </tr>\n",
       "  </tbody>\n",
       "</table>\n",
       "</div>"
      ],
      "text/plain": [
       "                           year_built  energy_star_rating  \\\n",
       "year_built                     1.0000             -0.0739   \n",
       "energy_star_rating            -0.0739              1.0000   \n",
       "direction_max_wind_speed       0.0012             -0.0010   \n",
       "direction_peak_wind_speed     -0.0096              0.0020   \n",
       "max_wind_speed                 0.0049             -0.0003   \n",
       "days_with_fog                  0.0842              0.0194   \n",
       "site_eui                       0.0172             -0.5110   \n",
       "\n",
       "                           direction_max_wind_speed  \\\n",
       "year_built                                   0.0012   \n",
       "energy_star_rating                          -0.0010   \n",
       "direction_max_wind_speed                     1.0000   \n",
       "direction_peak_wind_speed                    0.9998   \n",
       "max_wind_speed                               0.9888   \n",
       "days_with_fog                                0.3304   \n",
       "site_eui                                     0.0102   \n",
       "\n",
       "                           direction_peak_wind_speed  max_wind_speed  \\\n",
       "year_built                                   -0.0096          0.0049   \n",
       "energy_star_rating                            0.0020         -0.0003   \n",
       "direction_max_wind_speed                      0.9998          0.9888   \n",
       "direction_peak_wind_speed                     1.0000          0.9922   \n",
       "max_wind_speed                                0.9922          1.0000   \n",
       "days_with_fog                                 0.3301          0.3540   \n",
       "site_eui                                      0.0136          0.0106   \n",
       "\n",
       "                           days_with_fog  site_eui  \n",
       "year_built                        0.0842    0.0172  \n",
       "energy_star_rating                0.0194   -0.5110  \n",
       "direction_max_wind_speed          0.3304    0.0102  \n",
       "direction_peak_wind_speed         0.3301    0.0136  \n",
       "max_wind_speed                    0.3540    0.0106  \n",
       "days_with_fog                     1.0000   -0.0554  \n",
       "site_eui                         -0.0554    1.0000  "
      ]
     },
     "execution_count": 53,
     "metadata": {},
     "output_type": "execute_result"
    }
   ],
   "source": [
    "## Step3: Use correlation to determine if those columns(w/ missing values) are important or negligible\n",
    "## Get correlation between attributes w/ missing and site_eui from df_train\n",
    "df_miss_eui=df_train[['year_built', 'energy_star_rating', 'direction_max_wind_speed',\n",
    "       'direction_peak_wind_speed', 'max_wind_speed', 'days_with_fog', 'site_eui']]\n",
    "corr_df_miss_eui = df_miss_eui.corr()\n",
    "corr_df_miss_eui"
   ]
  },
  {
   "cell_type": "code",
   "execution_count": 54,
   "id": "1f72746a",
   "metadata": {},
   "outputs": [
    {
     "data": {
      "text/plain": [
       "<AxesSubplot:>"
      ]
     },
     "execution_count": 54,
     "metadata": {},
     "output_type": "execute_result"
    },
    {
     "data": {
      "image/png": "[encoded data removed]",
      "text/plain": [
       "<Figure size 432x288 with 2 Axes>"
      ]
     },
     "metadata": {
      "needs_background": "light"
     },
     "output_type": "display_data"
    }
   ],
   "source": [
    "# get heatmap for the correlation between attributes w/ missing values\n",
    "sns.heatmap(corr_df_miss_eui)"
   ]
  },
  {
   "cell_type": "code",
   "execution_count": 55,
   "id": "e690212f",
   "metadata": {},
   "outputs": [
    {
     "name": "stdout",
     "output_type": "stream",
     "text": [
      "                           correlation with site_eui\n",
      "energy_star_rating                           -0.5110\n",
      "days_with_fog                                -0.0554\n",
      "direction_max_wind_speed                      0.0102\n",
      "max_wind_speed                                0.0106\n",
      "direction_peak_wind_speed                     0.0136\n",
      "year_built                                    0.0172\n",
      "site_eui                                      1.0000\n"
     ]
    }
   ],
   "source": [
    "## sort the correlation between attributes w/ missing and 'site_eui'\n",
    "corr_dfmiss_eui = corr_df_miss_eui['site_eui'].sort_values()\n",
    "frame = { 'correlation with site_eui': corr_dfmiss_eui}  \n",
    "dfmiss_eui = pd.DataFrame(frame)\n",
    "print (dfmiss_eui)"
   ]
  },
  {
   "cell_type": "code",
   "execution_count": 52,
   "id": "67f92ebc",
   "metadata": {},
   "outputs": [
    {
     "data": {
      "text/html": [
       "<div>\n",
       "<style scoped>\n",
       "    .dataframe tbody tr th:only-of-type {\n",
       "        vertical-align: middle;\n",
       "    }\n",
       "\n",
       "    .dataframe tbody tr th {\n",
       "        vertical-align: top;\n",
       "    }\n",
       "\n",
       "    .dataframe thead th {\n",
       "        text-align: right;\n",
       "    }\n",
       "</style>\n",
       "<table border=\"1\" class=\"dataframe\">\n",
       "  <thead>\n",
       "    <tr style=\"text-align: right;\">\n",
       "      <th></th>\n",
       "      <th>train missing rate</th>\n",
       "      <th>test missing rate</th>\n",
       "      <th>correlation with site_eui</th>\n",
       "    </tr>\n",
       "  </thead>\n",
       "  <tbody>\n",
       "    <tr>\n",
       "      <th>year_built</th>\n",
       "      <td>0.0242</td>\n",
       "      <td>0.0095</td>\n",
       "      <td>0.0172</td>\n",
       "    </tr>\n",
       "    <tr>\n",
       "      <th>energy_star_rating</th>\n",
       "      <td>0.3526</td>\n",
       "      <td>0.2323</td>\n",
       "      <td>-0.5110</td>\n",
       "    </tr>\n",
       "    <tr>\n",
       "      <th>direction_max_wind_speed</th>\n",
       "      <td>0.5423</td>\n",
       "      <td>0.8836</td>\n",
       "      <td>0.0102</td>\n",
       "    </tr>\n",
       "    <tr>\n",
       "      <th>max_wind_speed</th>\n",
       "      <td>0.5423</td>\n",
       "      <td>0.8836</td>\n",
       "      <td>0.0106</td>\n",
       "    </tr>\n",
       "    <tr>\n",
       "      <th>direction_peak_wind_speed</th>\n",
       "      <td>0.5519</td>\n",
       "      <td>0.8836</td>\n",
       "      <td>0.0136</td>\n",
       "    </tr>\n",
       "    <tr>\n",
       "      <th>days_with_fog</th>\n",
       "      <td>0.6045</td>\n",
       "      <td>0.9394</td>\n",
       "      <td>-0.0554</td>\n",
       "    </tr>\n",
       "    <tr>\n",
       "      <th>site_eui</th>\n",
       "      <td>NaN</td>\n",
       "      <td>NaN</td>\n",
       "      <td>1.0000</td>\n",
       "    </tr>\n",
       "  </tbody>\n",
       "</table>\n",
       "</div>"
      ],
      "text/plain": [
       "                           train missing rate  test missing rate  \\\n",
       "year_built                             0.0242             0.0095   \n",
       "energy_star_rating                     0.3526             0.2323   \n",
       "direction_max_wind_speed               0.5423             0.8836   \n",
       "max_wind_speed                         0.5423             0.8836   \n",
       "direction_peak_wind_speed              0.5519             0.8836   \n",
       "days_with_fog                          0.6045             0.9394   \n",
       "site_eui                                  NaN                NaN   \n",
       "\n",
       "                           correlation with site_eui  \n",
       "year_built                                    0.0172  \n",
       "energy_star_rating                           -0.5110  \n",
       "direction_max_wind_speed                      0.0102  \n",
       "max_wind_speed                                0.0106  \n",
       "direction_peak_wind_speed                     0.0136  \n",
       "days_with_fog                                -0.0554  \n",
       "site_eui                                      1.0000  "
      ]
     },
     "execution_count": 52,
     "metadata": {},
     "output_type": "execute_result"
    }
   ],
   "source": [
    "## compare the propotional of missing for df_train and df_test and correlation with site_eui\n",
    "frame = { 'train missing rate': df_train_missing_rate, 'test missing rate': df_test_missing_rate, 'correlation with site_eui': corr_dfmiss_eui}  \n",
    "df_missingrate_ana = pd.DataFrame(frame)\n",
    "#print (df_buildtype_ana)\n",
    "#df_missingrate_ana_sort = df_missingrate_ana.sort_values('site_eui Mean')\n",
    "df_missingrate_ana.sort_values('train missing rate')\n"
   ]
  },
  {
   "cell_type": "code",
   "execution_count": 51,
   "id": "dd421687",
   "metadata": {},
   "outputs": [
    {
     "data": {
      "text/html": [
       "<div>\n",
       "<style scoped>\n",
       "    .dataframe tbody tr th:only-of-type {\n",
       "        vertical-align: middle;\n",
       "    }\n",
       "\n",
       "    .dataframe tbody tr th {\n",
       "        vertical-align: top;\n",
       "    }\n",
       "\n",
       "    .dataframe thead th {\n",
       "        text-align: right;\n",
       "    }\n",
       "</style>\n",
       "<table border=\"1\" class=\"dataframe\">\n",
       "  <thead>\n",
       "    <tr style=\"text-align: right;\">\n",
       "      <th></th>\n",
       "      <th>train missing rate</th>\n",
       "      <th>test missing rate</th>\n",
       "      <th>correlation with site_eui</th>\n",
       "    </tr>\n",
       "  </thead>\n",
       "  <tbody>\n",
       "    <tr>\n",
       "      <th>days_with_fog</th>\n",
       "      <td>0.6045</td>\n",
       "      <td>0.6045</td>\n",
       "      <td>-0.0554</td>\n",
       "    </tr>\n",
       "    <tr>\n",
       "      <th>direction_max_wind_speed</th>\n",
       "      <td>0.5423</td>\n",
       "      <td>0.5423</td>\n",
       "      <td>0.0102</td>\n",
       "    </tr>\n",
       "    <tr>\n",
       "      <th>direction_peak_wind_speed</th>\n",
       "      <td>0.5519</td>\n",
       "      <td>0.5519</td>\n",
       "      <td>0.0136</td>\n",
       "    </tr>\n",
       "    <tr>\n",
       "      <th>energy_star_rating</th>\n",
       "      <td>0.3526</td>\n",
       "      <td>0.3526</td>\n",
       "      <td>-0.5110</td>\n",
       "    </tr>\n",
       "    <tr>\n",
       "      <th>max_wind_speed</th>\n",
       "      <td>0.5423</td>\n",
       "      <td>0.5423</td>\n",
       "      <td>0.0106</td>\n",
       "    </tr>\n",
       "    <tr>\n",
       "      <th>site_eui</th>\n",
       "      <td>NaN</td>\n",
       "      <td>NaN</td>\n",
       "      <td>1.0000</td>\n",
       "    </tr>\n",
       "    <tr>\n",
       "      <th>year_built</th>\n",
       "      <td>0.0242</td>\n",
       "      <td>0.0242</td>\n",
       "      <td>0.0172</td>\n",
       "    </tr>\n",
       "  </tbody>\n",
       "</table>\n",
       "</div>"
      ],
      "text/plain": [
       "                           train missing rate  test missing rate  \\\n",
       "days_with_fog                          0.6045             0.6045   \n",
       "direction_max_wind_speed               0.5423             0.5423   \n",
       "direction_peak_wind_speed              0.5519             0.5519   \n",
       "energy_star_rating                     0.3526             0.3526   \n",
       "max_wind_speed                         0.5423             0.5423   \n",
       "site_eui                                  NaN                NaN   \n",
       "year_built                             0.0242             0.0242   \n",
       "\n",
       "                           correlation with site_eui  \n",
       "days_with_fog                                -0.0554  \n",
       "direction_max_wind_speed                      0.0102  \n",
       "direction_peak_wind_speed                     0.0136  \n",
       "energy_star_rating                           -0.5110  \n",
       "max_wind_speed                                0.0106  \n",
       "site_eui                                      1.0000  \n",
       "year_built                                    0.0172  "
      ]
     },
     "execution_count": 51,
     "metadata": {},
     "output_type": "execute_result"
    },
    {
     "data": {
      "image/png": "[encoded data removed]",
      "text/plain": [
       "<Figure size 432x288 with 1 Axes>"
      ]
     },
     "metadata": {
      "needs_background": "light"
     },
     "output_type": "display_data"
    }
   ],
   "source": [
    "## save missing rate to image\n",
    "from pandas.plotting import table \n",
    "\n",
    "ax = plt.subplot(111, frame_on=False) # no visible frame\n",
    "ax.xaxis.set_visible(False)  # hide the x axis\n",
    "ax.yaxis.set_visible(False)  # hide the y axis\n",
    "df_missingrate_ana_round=df_missingrate_ana.round({\"train missing rate\":4, \"test missing rate\":4, 'correlation with site_eui':4 })\n",
    "table(ax, df_missingrate_ana_round)  # where df is your data frame\n",
    "\n",
    "plt.savefig('Images/missing_rate.png')"
   ]
  },
  {
   "cell_type": "markdown",
   "id": "feb1e026",
   "metadata": {},
   "source": [
    "##### Missing_finding1: year_built has only 2% missing in df_train and 0.9% missing in df_test should be impute\n",
    "##### Missing_finding2: energy_star_rating has high related to site_eui, so even it has around 20-30% missing, still need to be impute\n",
    "##### Missing_finding3: the rest of four features has high missing rate in both df_train and inparticular df_test so should be dropped. "
   ]
  },
  {
   "cell_type": "markdown",
   "id": "ba3c16e0",
   "metadata": {},
   "source": [
    "##### Missing_Finding1. There are only 2% missing value in 'year_built', we can also consider their 'year_factors' to know if they can be predicted from 'year_factors' or just safely dropped.\n",
    "##### Missing_Finding2. Look into the correlation between these missing columns and 'site_eui' to see if any of them with high missing rate can be dropped. The result indicates that energy_star_rating should stay due to the high correlation with 'site_eui'\n",
    "##### Missing_Finding3. 'days_with_fog', 'direction_max_wind_speed', 'max_wind_speed', 'direction_peak_wind_speed', 'direction_peak_wind_speed' are safe to be dropped due to the low correlation with 'site_eui'"
   ]
  },
  {
   "cell_type": "code",
   "execution_count": null,
   "id": "2790f000",
   "metadata": {},
   "outputs": [],
   "source": []
  },
  {
   "cell_type": "code",
   "execution_count": null,
   "id": "5cd29709",
   "metadata": {},
   "outputs": [],
   "source": []
  },
  {
   "cell_type": "markdown",
   "id": "e53a2604",
   "metadata": {},
   "source": [
    "## Question 2:  Do those older buildings comsume more energy?\n",
    "#### Step1: get the avg. site_eui for buildings per build_year by groupby 'site_eui'\n",
    "#### Step2: aggregate the counts. buildings per build_year by groupby 'site_eui'\n",
    "#### Step3: Analyze the above two steps for commercial and residential buildings separately."
   ]
  },
  {
   "cell_type": "code",
   "execution_count": 56,
   "id": "0201cfa4",
   "metadata": {},
   "outputs": [
    {
     "data": {
      "text/plain": [
       "0.08414319996850916"
      ]
     },
     "execution_count": 56,
     "metadata": {},
     "output_type": "execute_result"
    }
   ],
   "source": [
    "## Find correlation between 'year_built' and 'Year_Factor'\n",
    "df_train_corr = df_train.corr()\n",
    "df_train_corr['year_built']['Year_Factor']"
   ]
  },
  {
   "cell_type": "markdown",
   "id": "619ba75c",
   "metadata": {},
   "source": [
    "#### Summary: 'Year_Factor' feature has low correlation with 'year_built'"
   ]
  },
  {
   "cell_type": "code",
   "execution_count": null,
   "id": "0977dc4b",
   "metadata": {},
   "outputs": [],
   "source": []
  },
  {
   "cell_type": "code",
   "execution_count": 63,
   "id": "db81301e",
   "metadata": {},
   "outputs": [
    {
     "data": {
      "image/png": "[encoded data removed]",
      "text/plain": [
       "<Figure size 1440x288 with 1 Axes>"
      ]
     },
     "metadata": {
      "needs_background": "light"
     },
     "output_type": "display_data"
    }
   ],
   "source": [
    "## Step1: Find the mean of 'site_eui' based on 'year_built' (for df_train)\n",
    "df_yearbuilt = df_train.dropna(subset = ['year_built'])\n",
    "df_yearbuilt_mean = df_yearbuilt.groupby('year_built').mean()['site_eui']\n",
    "plot_yearbuilt_mean = df_yearbuilt_mean.plot(kind='bar', figsize=(20,4), title = 'Site eui_mean v.s. year built')\n",
    "\n",
    "plot_yearbuilt_mean.figure.savefig('Images/plot_yearbuilt_mean.pdf')"
   ]
  },
  {
   "cell_type": "code",
   "execution_count": 64,
   "id": "b8baa1c5",
   "metadata": {},
   "outputs": [
    {
     "data": {
      "image/png": "[encoded data removed]",
      "text/plain": [
       "<Figure size 1440x288 with 1 Axes>"
      ]
     },
     "metadata": {
      "needs_background": "light"
     },
     "output_type": "display_data"
    }
   ],
   "source": [
    "## Find the count of buildings based on 'year_built' (for df_train)\n",
    "df_yearbuilt_count = df_yearbuilt['year_built'].value_counts().sort_index()\n",
    "plot_yearbuilt_count = df_yearbuilt_count.plot(kind='bar',figsize=(20,4), title = 'bulding counts v.s. year built')\n",
    "\n",
    "plot_yearbuilt_count.figure.savefig('Images/plot_yearbuilt_count.pdf')"
   ]
  },
  {
   "cell_type": "markdown",
   "id": "ff9888b6",
   "metadata": {},
   "source": [
    "#### Q2_finding_1: The means of site_eui are fluculated more significately year by year for those years before 1900 because here are not many data each year. \n",
    "##### Q2_finding_2: The means of site_eui didn't show a clear trend based on the year_built for df_train"
   ]
  },
  {
   "cell_type": "code",
   "execution_count": 65,
   "id": "c5f6972e",
   "metadata": {},
   "outputs": [
    {
     "name": "stdout",
     "output_type": "stream",
     "text": [
      "           site_eui Mean  count of buildings\n",
      "0.0000           71.2746                   6\n",
      "1600.0000        60.7015                   6\n",
      "1649.0000        78.0321                   4\n",
      "1732.0000        35.0770                   1\n",
      "1756.0000       252.7577                   4\n",
      "...                  ...                 ...\n",
      "2011.0000        68.1337                 279\n",
      "2012.0000        73.5516                 353\n",
      "2013.0000        80.8726                 398\n",
      "2014.0000        53.7745                 269\n",
      "2015.0000        57.6372                 111\n",
      "\n",
      "[180 rows x 2 columns]\n"
     ]
    }
   ],
   "source": [
    "## Combine Mean and Counts of buildings each year\n",
    "frame = { 'site_eui Mean': df_yearbuilt_mean, 'count of buildings': df_yearbuilt_count}  \n",
    "df_yearbuilt_ana = pd.DataFrame(frame)\n",
    "print (df_yearbuilt_ana)\n",
    "#df_yearbuilt_ana.sort_values('site_eui Mean')"
   ]
  },
  {
   "cell_type": "code",
   "execution_count": 66,
   "id": "187cbe6f",
   "metadata": {},
   "outputs": [
    {
     "data": {
      "image/png": "[encoded data removed]",
      "text/plain": [
       "<Figure size 1296x360 with 2 Axes>"
      ]
     },
     "metadata": {
      "needs_background": "light"
     },
     "output_type": "display_data"
    },
    {
     "data": {
      "text/plain": [
       "<Figure size 432x288 with 0 Axes>"
      ]
     },
     "metadata": {},
     "output_type": "display_data"
    }
   ],
   "source": [
    "## plot the Mean and Count of buildings per year \n",
    "x = df_yearbuilt_ana.index\n",
    "y1 = df_yearbuilt_ana['site_eui Mean']\n",
    "y2 = df_yearbuilt_ana['count of buildings']\n",
    "\n",
    "fig, ax1 = plt.subplots()\n",
    "fig.set_size_inches(18, 5)\n",
    "\n",
    "ax2 = ax1.twinx()\n",
    "ax1.bar(x, y1, color = 'b', width = 0.5)\n",
    "ax2.bar(x, y2, color = 'r', width = 0.25)\n",
    "\n",
    "ax1.set_xlabel('Year')\n",
    "ax1.set_ylabel('Mean of site_eui', color='b')\n",
    "ax2.set_ylabel('Count of buildings', color='r')\n",
    "plt.xlim([1900, 2015])\n",
    "\n",
    "for tick in ax1.get_xticklabels():\n",
    "    tick.set_rotation(90)\n",
    "\n",
    "plt.show()\n",
    "\n",
    "plt.savefig('Images/yearbuilt_eui.png')"
   ]
  },
  {
   "cell_type": "code",
   "execution_count": null,
   "id": "d6bd874e",
   "metadata": {},
   "outputs": [],
   "source": []
  },
  {
   "cell_type": "markdown",
   "id": "59542456",
   "metadata": {},
   "source": []
  },
  {
   "cell_type": "code",
   "execution_count": 68,
   "id": "11113f8a",
   "metadata": {},
   "outputs": [
    {
     "data": {
      "text/plain": [
       "year_built\n",
       "0.0000       71.2746\n",
       "1600.0000    60.7015\n",
       "1732.0000    35.0770\n",
       "1756.0000   252.7577\n",
       "1789.0000   179.6269\n",
       "              ...   \n",
       "2011.0000    85.2152\n",
       "2012.0000    94.0543\n",
       "2013.0000   116.7765\n",
       "2014.0000    79.1229\n",
       "2015.0000    77.2018\n",
       "Name: site_eui, Length: 175, dtype: float64"
      ]
     },
     "execution_count": 68,
     "metadata": {},
     "output_type": "execute_result"
    }
   ],
   "source": [
    "## Step2: Look into the mean site_eui of each year for residential and commercial buildings \n",
    "## get means for commercial buildings by year_built\n",
    "df_commercial = df_yearbuilt.loc[df_yearbuilt['building_class'] == 'Commercial']\n",
    "df_com_year_mean = df_commercial.groupby('year_built').mean()['site_eui']\n",
    "df_com_year_mean"
   ]
  },
  {
   "cell_type": "code",
   "execution_count": 69,
   "id": "46864b8e",
   "metadata": {},
   "outputs": [
    {
     "data": {
      "text/plain": [
       "<AxesSubplot:title={'center':'Site eui_mean v.s. year built for Commercial buildings'}, xlabel='year_built'>"
      ]
     },
     "execution_count": 69,
     "metadata": {},
     "output_type": "execute_result"
    },
    {
     "data": {
      "image/png": "[encoded data removed]",
      "text/plain": [
       "<Figure size 1440x288 with 1 Axes>"
      ]
     },
     "metadata": {
      "needs_background": "light"
     },
     "output_type": "display_data"
    }
   ],
   "source": [
    "## plot means for commercial buildings by year_built\n",
    "df_com_year_mean.plot(kind='bar', figsize=(20,4), title = 'Site eui_mean v.s. year built for Commercial buildings')"
   ]
  },
  {
   "cell_type": "code",
   "execution_count": 70,
   "id": "eb74072c",
   "metadata": {},
   "outputs": [
    {
     "data": {
      "text/plain": [
       "<AxesSubplot:title={'center':'bulding counts v.s. year built for Commercial buildings'}>"
      ]
     },
     "execution_count": 70,
     "metadata": {},
     "output_type": "execute_result"
    },
    {
     "data": {
      "image/png": "[encoded data removed]",
      "text/plain": [
       "<Figure size 1440x288 with 1 Axes>"
      ]
     },
     "metadata": {
      "needs_background": "light"
     },
     "output_type": "display_data"
    }
   ],
   "source": [
    "## plot and get count for commercial buildings by year_built\n",
    "df_com_year_count = df_commercial['year_built'].value_counts().sort_index()\n",
    "df_com_year_count.plot(kind='bar',figsize=(20,4), title = 'bulding counts v.s. year built for Commercial buildings' )"
   ]
  },
  {
   "cell_type": "code",
   "execution_count": 71,
   "id": "8d65ec3e",
   "metadata": {},
   "outputs": [
    {
     "name": "stdout",
     "output_type": "stream",
     "text": [
      "           site_eui Mean  count of buildings\n",
      "0.0000           71.2746                   6\n",
      "1600.0000        60.7015                   6\n",
      "1732.0000        35.0770                   1\n",
      "1756.0000       252.7577                   4\n",
      "1789.0000       179.6269                   3\n",
      "...                  ...                 ...\n",
      "2011.0000        85.2152                 114\n",
      "2012.0000        94.0543                 157\n",
      "2013.0000       116.7765                 185\n",
      "2014.0000        79.1229                  97\n",
      "2015.0000        77.2018                  43\n",
      "\n",
      "[175 rows x 2 columns]\n"
     ]
    }
   ],
   "source": [
    "## Combine Mean and Counts of commercial buildings each year\n",
    "frame = { 'site_eui Mean': df_com_year_mean, 'count of buildings': df_com_year_count}  \n",
    "df_commer_year_ana = pd.DataFrame(frame)\n",
    "print (df_commer_year_ana)"
   ]
  },
  {
   "cell_type": "code",
   "execution_count": 72,
   "id": "551813b1",
   "metadata": {},
   "outputs": [
    {
     "data": {
      "image/png": "[encoded data removed]",
      "text/plain": [
       "<Figure size 1296x360 with 2 Axes>"
      ]
     },
     "metadata": {
      "needs_background": "light"
     },
     "output_type": "display_data"
    },
    {
     "data": {
      "text/plain": [
       "<Figure size 432x288 with 0 Axes>"
      ]
     },
     "metadata": {},
     "output_type": "display_data"
    }
   ],
   "source": [
    "## plot the Mean and Count of commercial buildings per year \n",
    "x = df_commer_year_ana.index\n",
    "y1 = df_commer_year_ana['site_eui Mean']\n",
    "y2 = df_commer_year_ana['count of buildings']\n",
    "\n",
    "fig, ax1 = plt.subplots()\n",
    "fig.set_size_inches(18, 5)\n",
    "\n",
    "ax2 = ax1.twinx()\n",
    "ax1.bar(x, y1, color = 'b', width = 0.5)\n",
    "ax2.bar(x, y2, color = 'r', width = 0.25)\n",
    "\n",
    "ax1.set_xlabel('Year')\n",
    "ax1.set_ylabel('Mean of site_eui', color='b')\n",
    "ax2.set_ylabel('Count of buildings', color='r')\n",
    "plt.xlim([1900, 2015])\n",
    "\n",
    "for tick in ax1.get_xticklabels():\n",
    "    tick.set_rotation(90)\n",
    "\n",
    "plt.show()\n",
    "plt.savefig('Images/ComYearbuilt_eui.png')"
   ]
  },
  {
   "cell_type": "code",
   "execution_count": 73,
   "id": "ed2ea583",
   "metadata": {},
   "outputs": [
    {
     "data": {
      "text/plain": [
       "year_built\n",
       "1649.0000    78.0321\n",
       "1800.0000    74.5956\n",
       "1815.0000    78.5874\n",
       "1827.0000    95.5175\n",
       "1836.0000   267.0709\n",
       "              ...   \n",
       "2011.0000    56.3319\n",
       "2012.0000    57.1286\n",
       "2013.0000    49.6885\n",
       "2014.0000    39.4792\n",
       "2015.0000    45.2655\n",
       "Name: site_eui, Length: 150, dtype: float64"
      ]
     },
     "execution_count": 73,
     "metadata": {},
     "output_type": "execute_result"
    }
   ],
   "source": [
    "## get means for residential buildings by year_built\n",
    "df_residential = df_yearbuilt.loc[df_yearbuilt['building_class'] == 'Residential']\n",
    "df_res_year_mean = df_residential.groupby('year_built').mean()['site_eui']\n",
    "df_res_year_mean"
   ]
  },
  {
   "cell_type": "code",
   "execution_count": 74,
   "id": "49ff488d",
   "metadata": {},
   "outputs": [
    {
     "data": {
      "text/plain": [
       "<AxesSubplot:title={'center':'Site eui_mean v.s. year built for Residential buildings'}, xlabel='year_built'>"
      ]
     },
     "execution_count": 74,
     "metadata": {},
     "output_type": "execute_result"
    },
    {
     "data": {
      "image/png": "[encoded data removed]",
      "text/plain": [
       "<Figure size 1440x288 with 1 Axes>"
      ]
     },
     "metadata": {
      "needs_background": "light"
     },
     "output_type": "display_data"
    }
   ],
   "source": [
    "## plot means for residential buildings by year_built\n",
    "df_res_year_mean.plot(kind='bar', figsize=(20,4), title = 'Site eui_mean v.s. year built for Residential buildings')"
   ]
  },
  {
   "cell_type": "code",
   "execution_count": 75,
   "id": "39784526",
   "metadata": {},
   "outputs": [
    {
     "data": {
      "text/plain": [
       "<AxesSubplot:title={'center':'bulding counts v.s. year built for Residential buildings'}>"
      ]
     },
     "execution_count": 75,
     "metadata": {},
     "output_type": "execute_result"
    },
    {
     "data": {
      "image/png": "[encoded data removed]",
      "text/plain": [
       "<Figure size 1440x288 with 1 Axes>"
      ]
     },
     "metadata": {
      "needs_background": "light"
     },
     "output_type": "display_data"
    }
   ],
   "source": [
    "## plot and get counts for residential buildings by year_built\n",
    "df_res_year_count = df_residential['year_built'].value_counts().sort_index()\n",
    "df_res_year_count.plot(kind='bar',figsize=(20,4), title = 'bulding counts v.s. year built for Residential buildings' )"
   ]
  },
  {
   "cell_type": "code",
   "execution_count": 76,
   "id": "871aa422",
   "metadata": {},
   "outputs": [
    {
     "name": "stdout",
     "output_type": "stream",
     "text": [
      "           site_eui Mean  count of buildings\n",
      "1649.0000        78.0321                   4\n",
      "1800.0000        74.5956                   2\n",
      "1815.0000        78.5874                   1\n",
      "1827.0000        95.5175                   4\n",
      "1836.0000       267.0709                   4\n",
      "...                  ...                 ...\n",
      "2011.0000        56.3319                 165\n",
      "2012.0000        57.1286                 196\n",
      "2013.0000        49.6885                 213\n",
      "2014.0000        39.4792                 172\n",
      "2015.0000        45.2655                  68\n",
      "\n",
      "[150 rows x 2 columns]\n"
     ]
    }
   ],
   "source": [
    "## Combine Mean and Counts of residential buildings each year\n",
    "frame = { 'site_eui Mean': df_res_year_mean, 'count of buildings': df_res_year_count}  \n",
    "df_resident_year_ana = pd.DataFrame(frame)\n",
    "print (df_resident_year_ana)"
   ]
  },
  {
   "cell_type": "code",
   "execution_count": 77,
   "id": "71e7fe0c",
   "metadata": {},
   "outputs": [
    {
     "data": {
      "image/png": "[encoded data removed]",
      "text/plain": [
       "<Figure size 1296x360 with 2 Axes>"
      ]
     },
     "metadata": {
      "needs_background": "light"
     },
     "output_type": "display_data"
    },
    {
     "data": {
      "text/plain": [
       "<Figure size 432x288 with 0 Axes>"
      ]
     },
     "metadata": {},
     "output_type": "display_data"
    }
   ],
   "source": [
    "## plot the Mean and Count of residential buildings per year \n",
    "x = df_resident_year_ana.index\n",
    "y1 = df_resident_year_ana['site_eui Mean']\n",
    "y2 = df_resident_year_ana['count of buildings']\n",
    "\n",
    "fig, ax1 = plt.subplots()\n",
    "fig.set_size_inches(18, 5)\n",
    "\n",
    "ax2 = ax1.twinx()\n",
    "ax1.bar(x, y1, color = 'b', width = 0.5)\n",
    "ax2.bar(x, y2, color = 'r', width = 0.25)\n",
    "\n",
    "ax1.set_xlabel('Year')\n",
    "ax1.set_ylabel('Mean of site_eui', color='b')\n",
    "ax2.set_ylabel('Count of buildings', color='r')\n",
    "plt.xlim([1900, 2015])\n",
    "\n",
    "for tick in ax1.get_xticklabels():\n",
    "    tick.set_rotation(90)\n",
    "\n",
    "plt.show()\n",
    "plt.savefig('Images/ResYearbuilt_eui.png')"
   ]
  },
  {
   "cell_type": "code",
   "execution_count": 78,
   "id": "b7407def",
   "metadata": {},
   "outputs": [
    {
     "data": {
      "image/png": "[encoded data removed]",
      "text/plain": [
       "<Figure size 432x288 with 2 Axes>"
      ]
     },
     "metadata": {
      "needs_background": "light"
     },
     "output_type": "display_data"
    }
   ],
   "source": [
    "## Compare the mean site_eui for Commercial buildings and Residential buildings groupby the 'built_year'\n",
    "fig, (ax1, ax2) = plt.subplots(2)\n",
    "fig.suptitle('Mean of site_eui by year_built')\n",
    "ax1.bar(df_commer_year_ana.index, df_commer_year_ana['site_eui Mean'])\n",
    "ax2.bar(df_resident_year_ana.index, df_resident_year_ana['site_eui Mean'])\n",
    "ax1.set_xlim([1900, 2015])\n",
    "ax2.set_xlim([1900, 2015])\n",
    "ax1.set_ylim([0,120])\n",
    "ax2.set_ylim([0,120])\n",
    "ax2.set_xlabel('Year')\n",
    "ax1.set_ylabel('Commercial')\n",
    "ax2.set_ylabel('Residential')\n",
    "\n",
    "fig.figure.savefig('Images/compare_com_res_eui.pdf')\n"
   ]
  },
  {
   "cell_type": "markdown",
   "id": "d59ed098",
   "metadata": {},
   "source": [
    "#### Summary:\n",
    "##### Q2_finding_1: The means of site_eui are fluculated more significately year by year for those years before 1900 because here are not many data each year. \n",
    "##### Q2_finding_2: The means of site_eui didn't show a clear trend based on the year_built for df_train\n",
    "##### Q3_finding_3: However, if look into Residential building and Commercial build, mean site_eui of Residential buildings decrease along the year_built, inparticular after 2000s\n",
    "\n",
    "##### Summary: since the count of built_year is left-skewed distribution, I suggest to handle missing values in 'year_built' using mode"
   ]
  },
  {
   "cell_type": "code",
   "execution_count": null,
   "id": "f1a3efb1",
   "metadata": {},
   "outputs": [],
   "source": []
  },
  {
   "cell_type": "code",
   "execution_count": null,
   "id": "b319b5f6",
   "metadata": {},
   "outputs": [],
   "source": []
  },
  {
   "cell_type": "markdown",
   "id": "7babd439",
   "metadata": {},
   "source": [
    "## Handle missing data\n",
    "#### Step1: Drop 'direction_max_wind_speed', 'direction_peak_wind_speed', 'max_wind_speed', 'days_with_fog'\n",
    "#### Step2: Fill NaN for 'year_built' using mode value \n",
    "#### Step3:  Impute NaN for 'energy_star_rate' columns using ML predicted values"
   ]
  },
  {
   "cell_type": "markdown",
   "id": "47aaa746",
   "metadata": {},
   "source": [
    "### Step1: Drop 'direction_max_wind_speed', 'direction_peak_wind_speed', 'max_wind_speed', 'days_with_fog'"
   ]
  },
  {
   "cell_type": "code",
   "execution_count": 97,
   "id": "287bad6e",
   "metadata": {},
   "outputs": [
    {
     "name": "stdout",
     "output_type": "stream",
     "text": [
      "Index(['year_built', 'energy_star_rating', 'direction_max_wind_speed',\n",
      "       'direction_peak_wind_speed', 'max_wind_speed', 'days_with_fog',\n",
      "       'site_eui'],\n",
      "      dtype='object')\n",
      "Index(['year_built', 'energy_star_rating', 'site_eui'], dtype='object')\n"
     ]
    }
   ],
   "source": [
    "## (1) For df_all_onehot data\n",
    "df_all_onehot = pd.read_csv('Data/df_all_onehotencode.csv')\n",
    "print (df_all_onehot.columns[np.sum(df_all_onehot.isnull())!=0])\n",
    "df_all_onehot_dropcol = df_all_onehot.drop(['direction_max_wind_speed', 'direction_peak_wind_speed', 'max_wind_speed', 'days_with_fog'], axis = 1)\n",
    "print (df_all_onehot_dropcol.columns[np.sum(df_all_onehot_dropcol.isnull())!=0])"
   ]
  },
  {
   "cell_type": "code",
   "execution_count": 98,
   "id": "43ff94ec",
   "metadata": {},
   "outputs": [
    {
     "name": "stdout",
     "output_type": "stream",
     "text": [
      "Index(['year_built', 'energy_star_rating', 'direction_max_wind_speed',\n",
      "       'direction_peak_wind_speed', 'max_wind_speed', 'days_with_fog',\n",
      "       'site_eui'],\n",
      "      dtype='object')\n",
      "Index(['year_built', 'energy_star_rating', 'site_eui'], dtype='object')\n"
     ]
    }
   ],
   "source": [
    "## (2) For df_all_ordinal data\n",
    "df_all_ordinal = pd.read_csv('Data/df_all_ordinalencode.csv')\n",
    "print (df_all_ordinal.columns[np.sum(df_all_ordinal.isnull())!=0])\n",
    "df_all_ordinal_dropcol = df_all_ordinal.drop(['direction_max_wind_speed', 'direction_peak_wind_speed', 'max_wind_speed', 'days_with_fog'], axis = 1)\n",
    "print (df_all_ordinal_dropcol.columns[np.sum(df_all_ordinal_dropcol.isnull())!=0])"
   ]
  },
  {
   "cell_type": "markdown",
   "id": "636c01a3",
   "metadata": {},
   "source": [
    "### Step2: Fill NaN for 'year_built' using mode value "
   ]
  },
  {
   "cell_type": "code",
   "execution_count": 99,
   "id": "77586772",
   "metadata": {},
   "outputs": [
    {
     "name": "stdout",
     "output_type": "stream",
     "text": [
      "Index(['energy_star_rating', 'site_eui'], dtype='object')\n",
      "Index(['energy_star_rating', 'site_eui'], dtype='object')\n"
     ]
    }
   ],
   "source": [
    "## (1) For df_all_onehot data\n",
    "#Fill all missing values with the mode of the 'year_built'.\n",
    "df_all_onehot_dropcol_fillyear = df_all_onehot_dropcol\n",
    "df_all_onehot_dropcol_fillyear['year_built'] = df_all_onehot_dropcol['year_built'].fillna(df_all_onehot_dropcol['year_built'].mode()[0])\n",
    "\n",
    "# test look\n",
    "print (df_all_onehot_dropcol.columns[np.sum(df_all_onehot_dropcol.isnull())!=0])\n",
    "print (df_all_onehot_dropcol_fillyear.columns[np.sum(df_all_onehot_dropcol_fillyear.isnull())!=0])"
   ]
  },
  {
   "cell_type": "code",
   "execution_count": 100,
   "id": "dd063145",
   "metadata": {},
   "outputs": [
    {
     "name": "stdout",
     "output_type": "stream",
     "text": [
      "<class 'pandas.core.frame.DataFrame'>\n",
      "RangeIndex: 85462 entries, 0 to 85461\n",
      "Columns: 126 entries, Year_Factor to building_class_Residential\n",
      "dtypes: float64(89), int64(37)\n",
      "memory usage: 82.2 MB\n"
     ]
    }
   ],
   "source": [
    "## Save df_all_onehot_dropcol_fillyear to df_all_onehot_dropcol_fillyear.csv\n",
    "df_all_onehot_dropcol_fillyear.to_csv('Data/df_all_onehot_dropcol_fillyear.csv', index=False)\n",
    "df_all_test = pd.read_csv('Data/df_all_onehot_dropcol_fillyear.csv')\n",
    "df_all_test.info()"
   ]
  },
  {
   "cell_type": "code",
   "execution_count": 101,
   "id": "5d78bbc5",
   "metadata": {},
   "outputs": [
    {
     "name": "stdout",
     "output_type": "stream",
     "text": [
      "Index(['energy_star_rating', 'site_eui'], dtype='object')\n",
      "Index(['energy_star_rating', 'site_eui'], dtype='object')\n"
     ]
    }
   ],
   "source": [
    "## (2) For df_all_ordinal data\n",
    "#Fill all missing values with the mode of the 'year_built'.\n",
    "df_all_ordinal_dropcol_fillyear = df_all_ordinal_dropcol\n",
    "df_all_ordinal_dropcol_fillyear['year_built'] = df_all_ordinal_dropcol['year_built'].fillna(df_all_ordinal_dropcol['year_built'].mode()[0])\n",
    "\n",
    "# test look\n",
    "print (df_all_ordinal_dropcol.columns[np.sum(df_all_ordinal_dropcol.isnull())!=0])\n",
    "print (df_all_ordinal_dropcol_fillyear.columns[np.sum(df_all_ordinal_dropcol_fillyear.isnull())!=0])"
   ]
  },
  {
   "cell_type": "code",
   "execution_count": 102,
   "id": "3de0e809",
   "metadata": {},
   "outputs": [],
   "source": [
    "## Save df_all_ordinal_fillyear to df_all_ordinal_dropcol_fillyear.csv\n",
    "df_all_ordinal_dropcol_fillyear.to_csv('Data/df_all_ordinal_dropcol_fillyear.csv', index=False)\n",
    "df_all_test = pd.read_csv('Data/df_all_ordinal_dropcol_fillyear.csv')"
   ]
  },
  {
   "cell_type": "code",
   "execution_count": null,
   "id": "84857843",
   "metadata": {},
   "outputs": [],
   "source": []
  },
  {
   "cell_type": "markdown",
   "id": "2af81d4a",
   "metadata": {},
   "source": [
    "#### Step3:  Fill NaN for 'energy_star_rate' columns using predicted values\n",
    "##### 1): Find the top 10 correlated attributes with 'energy_star_rate'\n",
    "##### 2): Use MICE method to predict the missing values in the 'energy_star_rate' column "
   ]
  },
  {
   "cell_type": "code",
   "execution_count": 103,
   "id": "a21d6420",
   "metadata": {},
   "outputs": [
    {
     "name": "stdout",
     "output_type": "stream",
     "text": [
      "site_eui               -0.5110\n",
      "snowfall_inches        -0.1407\n",
      "heating_degree_days    -0.1333\n",
      "days_below_30F         -0.1324\n",
      "days_below_20F         -0.1134\n",
      "snowdepth_inches       -0.1111\n",
      "precipitation_inches   -0.1099\n",
      "july_avg_temp          -0.1071\n",
      "june_avg_temp          -0.1060\n",
      "cooling_degree_days    -0.0987\n",
      "Name: energy_star_rating, dtype: float64\n",
      "february_max_temp    0.1044\n",
      "april_min_temp       0.1060\n",
      "february_min_temp    0.1264\n",
      "march_min_temp       0.1346\n",
      "march_avg_temp       0.1372\n",
      "february_avg_temp    0.1375\n",
      "january_min_temp     0.1445\n",
      "january_avg_temp     0.1494\n",
      "energy_star_rating   1.0000\n",
      "days_above_110F         NaN\n",
      "Name: energy_star_rating, dtype: float64\n"
     ]
    }
   ],
   "source": [
    "## Step3: 1)get high correlation features with 'energy_star_rating'\n",
    "corr_df = df_train.corr()\n",
    "corr_df['energy_star_rating'].sort_values()\n",
    "print (corr_df['energy_star_rating'].sort_values().head(10))\n",
    "print (corr_df['energy_star_rating'].sort_values().tail(10))"
   ]
  },
  {
   "cell_type": "markdown",
   "id": "c1bec9ed",
   "metadata": {},
   "source": []
  },
  {
   "cell_type": "code",
   "execution_count": 104,
   "id": "f103e7b2",
   "metadata": {},
   "outputs": [],
   "source": [
    "## Step3: 2)impute NaN using MICE algorithm\n",
    "from sklearn.experimental import enable_iterative_imputer\n",
    "from sklearn.impute import IterativeImputer\n",
    "from sklearn.linear_model import LinearRegression"
   ]
  },
  {
   "cell_type": "code",
   "execution_count": 105,
   "id": "44ea6878",
   "metadata": {},
   "outputs": [
    {
     "data": {
      "text/plain": [
       "(85462, 126)"
      ]
     },
     "execution_count": 105,
     "metadata": {},
     "output_type": "execute_result"
    }
   ],
   "source": [
    "## Impute 'energy_star_rating' for onehot data\n",
    "df_all_onehot_dropcol_fillyear.shape"
   ]
  },
  {
   "cell_type": "code",
   "execution_count": 106,
   "id": "428313de",
   "metadata": {},
   "outputs": [
    {
     "data": {
      "text/html": [
       "<div>\n",
       "<style scoped>\n",
       "    .dataframe tbody tr th:only-of-type {\n",
       "        vertical-align: middle;\n",
       "    }\n",
       "\n",
       "    .dataframe tbody tr th {\n",
       "        vertical-align: top;\n",
       "    }\n",
       "\n",
       "    .dataframe thead th {\n",
       "        text-align: right;\n",
       "    }\n",
       "</style>\n",
       "<table border=\"1\" class=\"dataframe\">\n",
       "  <thead>\n",
       "    <tr style=\"text-align: right;\">\n",
       "      <th></th>\n",
       "      <th>snowfall_inches</th>\n",
       "      <th>heating_degree_days</th>\n",
       "      <th>days_below_30F</th>\n",
       "      <th>days_below_20F</th>\n",
       "      <th>snowdepth_inches</th>\n",
       "      <th>january_avg_temp</th>\n",
       "      <th>january_min_temp</th>\n",
       "      <th>february_avg_temp</th>\n",
       "      <th>march_avg_temp</th>\n",
       "      <th>march_min_temp</th>\n",
       "      <th>february_min_temp</th>\n",
       "      <th>energy_star_rating</th>\n",
       "    </tr>\n",
       "  </thead>\n",
       "  <tbody>\n",
       "    <tr>\n",
       "      <th>0</th>\n",
       "      <td>0.0000</td>\n",
       "      <td>2960</td>\n",
       "      <td>0</td>\n",
       "      <td>0</td>\n",
       "      <td>0</td>\n",
       "      <td>50.5000</td>\n",
       "      <td>36</td>\n",
       "      <td>50.5893</td>\n",
       "      <td>53.6935</td>\n",
       "      <td>40</td>\n",
       "      <td>35</td>\n",
       "      <td>11.0000</td>\n",
       "    </tr>\n",
       "    <tr>\n",
       "      <th>1</th>\n",
       "      <td>0.0000</td>\n",
       "      <td>2960</td>\n",
       "      <td>0</td>\n",
       "      <td>0</td>\n",
       "      <td>0</td>\n",
       "      <td>50.5000</td>\n",
       "      <td>36</td>\n",
       "      <td>50.5893</td>\n",
       "      <td>53.6935</td>\n",
       "      <td>40</td>\n",
       "      <td>35</td>\n",
       "      <td>45.0000</td>\n",
       "    </tr>\n",
       "    <tr>\n",
       "      <th>2</th>\n",
       "      <td>0.0000</td>\n",
       "      <td>2960</td>\n",
       "      <td>0</td>\n",
       "      <td>0</td>\n",
       "      <td>0</td>\n",
       "      <td>50.5000</td>\n",
       "      <td>36</td>\n",
       "      <td>50.5893</td>\n",
       "      <td>53.6935</td>\n",
       "      <td>40</td>\n",
       "      <td>35</td>\n",
       "      <td>97.0000</td>\n",
       "    </tr>\n",
       "    <tr>\n",
       "      <th>3</th>\n",
       "      <td>0.0000</td>\n",
       "      <td>2960</td>\n",
       "      <td>0</td>\n",
       "      <td>0</td>\n",
       "      <td>0</td>\n",
       "      <td>50.5000</td>\n",
       "      <td>36</td>\n",
       "      <td>50.5893</td>\n",
       "      <td>53.6935</td>\n",
       "      <td>40</td>\n",
       "      <td>35</td>\n",
       "      <td>46.0000</td>\n",
       "    </tr>\n",
       "    <tr>\n",
       "      <th>4</th>\n",
       "      <td>0.0000</td>\n",
       "      <td>2960</td>\n",
       "      <td>0</td>\n",
       "      <td>0</td>\n",
       "      <td>0</td>\n",
       "      <td>50.5000</td>\n",
       "      <td>36</td>\n",
       "      <td>50.5893</td>\n",
       "      <td>53.6935</td>\n",
       "      <td>40</td>\n",
       "      <td>35</td>\n",
       "      <td>100.0000</td>\n",
       "    </tr>\n",
       "    <tr>\n",
       "      <th>...</th>\n",
       "      <td>...</td>\n",
       "      <td>...</td>\n",
       "      <td>...</td>\n",
       "      <td>...</td>\n",
       "      <td>...</td>\n",
       "      <td>...</td>\n",
       "      <td>...</td>\n",
       "      <td>...</td>\n",
       "      <td>...</td>\n",
       "      <td>...</td>\n",
       "      <td>...</td>\n",
       "      <td>...</td>\n",
       "    </tr>\n",
       "    <tr>\n",
       "      <th>95</th>\n",
       "      <td>0.0000</td>\n",
       "      <td>2960</td>\n",
       "      <td>0</td>\n",
       "      <td>0</td>\n",
       "      <td>0</td>\n",
       "      <td>50.5000</td>\n",
       "      <td>36</td>\n",
       "      <td>50.5893</td>\n",
       "      <td>53.6935</td>\n",
       "      <td>40</td>\n",
       "      <td>35</td>\n",
       "      <td>76.0000</td>\n",
       "    </tr>\n",
       "    <tr>\n",
       "      <th>96</th>\n",
       "      <td>0.0000</td>\n",
       "      <td>2960</td>\n",
       "      <td>0</td>\n",
       "      <td>0</td>\n",
       "      <td>0</td>\n",
       "      <td>50.5000</td>\n",
       "      <td>36</td>\n",
       "      <td>50.5893</td>\n",
       "      <td>53.6935</td>\n",
       "      <td>40</td>\n",
       "      <td>35</td>\n",
       "      <td>NaN</td>\n",
       "    </tr>\n",
       "    <tr>\n",
       "      <th>97</th>\n",
       "      <td>0.0000</td>\n",
       "      <td>2960</td>\n",
       "      <td>0</td>\n",
       "      <td>0</td>\n",
       "      <td>0</td>\n",
       "      <td>50.5000</td>\n",
       "      <td>36</td>\n",
       "      <td>50.5893</td>\n",
       "      <td>53.6935</td>\n",
       "      <td>40</td>\n",
       "      <td>35</td>\n",
       "      <td>6.0000</td>\n",
       "    </tr>\n",
       "    <tr>\n",
       "      <th>98</th>\n",
       "      <td>0.0000</td>\n",
       "      <td>2960</td>\n",
       "      <td>0</td>\n",
       "      <td>0</td>\n",
       "      <td>0</td>\n",
       "      <td>50.5000</td>\n",
       "      <td>36</td>\n",
       "      <td>50.5893</td>\n",
       "      <td>53.6935</td>\n",
       "      <td>40</td>\n",
       "      <td>35</td>\n",
       "      <td>87.0000</td>\n",
       "    </tr>\n",
       "    <tr>\n",
       "      <th>99</th>\n",
       "      <td>0.0000</td>\n",
       "      <td>2960</td>\n",
       "      <td>0</td>\n",
       "      <td>0</td>\n",
       "      <td>0</td>\n",
       "      <td>50.5000</td>\n",
       "      <td>36</td>\n",
       "      <td>50.5893</td>\n",
       "      <td>53.6935</td>\n",
       "      <td>40</td>\n",
       "      <td>35</td>\n",
       "      <td>83.0000</td>\n",
       "    </tr>\n",
       "  </tbody>\n",
       "</table>\n",
       "<p>100 rows × 12 columns</p>\n",
       "</div>"
      ],
      "text/plain": [
       "    snowfall_inches  heating_degree_days  days_below_30F  days_below_20F  \\\n",
       "0            0.0000                 2960               0               0   \n",
       "1            0.0000                 2960               0               0   \n",
       "2            0.0000                 2960               0               0   \n",
       "3            0.0000                 2960               0               0   \n",
       "4            0.0000                 2960               0               0   \n",
       "..              ...                  ...             ...             ...   \n",
       "95           0.0000                 2960               0               0   \n",
       "96           0.0000                 2960               0               0   \n",
       "97           0.0000                 2960               0               0   \n",
       "98           0.0000                 2960               0               0   \n",
       "99           0.0000                 2960               0               0   \n",
       "\n",
       "    snowdepth_inches  january_avg_temp  january_min_temp  february_avg_temp  \\\n",
       "0                  0           50.5000                36            50.5893   \n",
       "1                  0           50.5000                36            50.5893   \n",
       "2                  0           50.5000                36            50.5893   \n",
       "3                  0           50.5000                36            50.5893   \n",
       "4                  0           50.5000                36            50.5893   \n",
       "..               ...               ...               ...                ...   \n",
       "95                 0           50.5000                36            50.5893   \n",
       "96                 0           50.5000                36            50.5893   \n",
       "97                 0           50.5000                36            50.5893   \n",
       "98                 0           50.5000                36            50.5893   \n",
       "99                 0           50.5000                36            50.5893   \n",
       "\n",
       "    march_avg_temp  march_min_temp  february_min_temp  energy_star_rating  \n",
       "0          53.6935              40                 35             11.0000  \n",
       "1          53.6935              40                 35             45.0000  \n",
       "2          53.6935              40                 35             97.0000  \n",
       "3          53.6935              40                 35             46.0000  \n",
       "4          53.6935              40                 35            100.0000  \n",
       "..             ...             ...                ...                 ...  \n",
       "95         53.6935              40                 35             76.0000  \n",
       "96         53.6935              40                 35                 NaN  \n",
       "97         53.6935              40                 35              6.0000  \n",
       "98         53.6935              40                 35             87.0000  \n",
       "99         53.6935              40                 35             83.0000  \n",
       "\n",
       "[100 rows x 12 columns]"
      ]
     },
     "execution_count": 106,
     "metadata": {},
     "output_type": "execute_result"
    }
   ],
   "source": [
    "mice_onehot_cols = ['snowfall_inches', 'heating_degree_days', 'days_below_30F', 'days_below_20F', 'snowdepth_inches', 'january_avg_temp',\n",
    "                   'january_min_temp', 'february_avg_temp', 'march_avg_temp', 'march_min_temp', 'february_min_temp', 'energy_star_rating']\n",
    "X_all_onehot_mice = df_all_onehot_dropcol_fillyear[mice_onehot_cols]\n",
    "X_all_onehot_mice.head(100)"
   ]
  },
  {
   "cell_type": "code",
   "execution_count": 107,
   "id": "00da60e7",
   "metadata": {},
   "outputs": [
    {
     "name": "stdout",
     "output_type": "stream",
     "text": [
      "[IterativeImputer] Completing matrix with shape (85462, 12)\n",
      "[IterativeImputer] Ending imputation round 1/30, elapsed time 0.31\n",
      "[IterativeImputer] Change: 24.21919051936348, scaled tolerance: 7.929000000000001e-07 \n",
      "[IterativeImputer] Ending imputation round 2/30, elapsed time 0.58\n",
      "[IterativeImputer] Change: 0.0, scaled tolerance: 7.929000000000001e-07 \n",
      "[IterativeImputer] Early stopping criterion reached.\n",
      "[IterativeImputer] Completing matrix with shape (85462, 12)\n",
      "[IterativeImputer] Ending imputation round 1/2, elapsed time 0.01\n",
      "[IterativeImputer] Ending imputation round 2/2, elapsed time 0.01\n"
     ]
    }
   ],
   "source": [
    "lr = LinearRegression()\n",
    "imp = IterativeImputer(estimator=lr, tol=1e-10, max_iter=30, verbose=2, imputation_order='roman')\n",
    "imp.fit(X_all_onehot_mice)\n",
    "X_all_onehot_micefit  = imp.transform(X_all_onehot_mice)"
   ]
  },
  {
   "cell_type": "code",
   "execution_count": 108,
   "id": "488de313",
   "metadata": {},
   "outputs": [
    {
     "data": {
      "text/html": [
       "<div>\n",
       "<style scoped>\n",
       "    .dataframe tbody tr th:only-of-type {\n",
       "        vertical-align: middle;\n",
       "    }\n",
       "\n",
       "    .dataframe tbody tr th {\n",
       "        vertical-align: top;\n",
       "    }\n",
       "\n",
       "    .dataframe thead th {\n",
       "        text-align: right;\n",
       "    }\n",
       "</style>\n",
       "<table border=\"1\" class=\"dataframe\">\n",
       "  <thead>\n",
       "    <tr style=\"text-align: right;\">\n",
       "      <th></th>\n",
       "      <th>snowfall_inches</th>\n",
       "      <th>heating_degree_days</th>\n",
       "      <th>days_below_30F</th>\n",
       "      <th>days_below_20F</th>\n",
       "      <th>snowdepth_inches</th>\n",
       "      <th>january_avg_temp</th>\n",
       "      <th>january_min_temp</th>\n",
       "      <th>february_avg_temp</th>\n",
       "      <th>march_avg_temp</th>\n",
       "      <th>march_min_temp</th>\n",
       "      <th>february_min_temp</th>\n",
       "      <th>energy_star_rating</th>\n",
       "    </tr>\n",
       "  </thead>\n",
       "  <tbody>\n",
       "    <tr>\n",
       "      <th>0</th>\n",
       "      <td>0.0000</td>\n",
       "      <td>2960.0000</td>\n",
       "      <td>0.0000</td>\n",
       "      <td>0.0000</td>\n",
       "      <td>0.0000</td>\n",
       "      <td>50.5000</td>\n",
       "      <td>36.0000</td>\n",
       "      <td>50.5893</td>\n",
       "      <td>53.6935</td>\n",
       "      <td>40.0000</td>\n",
       "      <td>35.0000</td>\n",
       "      <td>11.0000</td>\n",
       "    </tr>\n",
       "    <tr>\n",
       "      <th>1</th>\n",
       "      <td>0.0000</td>\n",
       "      <td>2960.0000</td>\n",
       "      <td>0.0000</td>\n",
       "      <td>0.0000</td>\n",
       "      <td>0.0000</td>\n",
       "      <td>50.5000</td>\n",
       "      <td>36.0000</td>\n",
       "      <td>50.5893</td>\n",
       "      <td>53.6935</td>\n",
       "      <td>40.0000</td>\n",
       "      <td>35.0000</td>\n",
       "      <td>45.0000</td>\n",
       "    </tr>\n",
       "    <tr>\n",
       "      <th>2</th>\n",
       "      <td>0.0000</td>\n",
       "      <td>2960.0000</td>\n",
       "      <td>0.0000</td>\n",
       "      <td>0.0000</td>\n",
       "      <td>0.0000</td>\n",
       "      <td>50.5000</td>\n",
       "      <td>36.0000</td>\n",
       "      <td>50.5893</td>\n",
       "      <td>53.6935</td>\n",
       "      <td>40.0000</td>\n",
       "      <td>35.0000</td>\n",
       "      <td>97.0000</td>\n",
       "    </tr>\n",
       "    <tr>\n",
       "      <th>3</th>\n",
       "      <td>0.0000</td>\n",
       "      <td>2960.0000</td>\n",
       "      <td>0.0000</td>\n",
       "      <td>0.0000</td>\n",
       "      <td>0.0000</td>\n",
       "      <td>50.5000</td>\n",
       "      <td>36.0000</td>\n",
       "      <td>50.5893</td>\n",
       "      <td>53.6935</td>\n",
       "      <td>40.0000</td>\n",
       "      <td>35.0000</td>\n",
       "      <td>46.0000</td>\n",
       "    </tr>\n",
       "    <tr>\n",
       "      <th>4</th>\n",
       "      <td>0.0000</td>\n",
       "      <td>2960.0000</td>\n",
       "      <td>0.0000</td>\n",
       "      <td>0.0000</td>\n",
       "      <td>0.0000</td>\n",
       "      <td>50.5000</td>\n",
       "      <td>36.0000</td>\n",
       "      <td>50.5893</td>\n",
       "      <td>53.6935</td>\n",
       "      <td>40.0000</td>\n",
       "      <td>35.0000</td>\n",
       "      <td>100.0000</td>\n",
       "    </tr>\n",
       "    <tr>\n",
       "      <th>...</th>\n",
       "      <td>...</td>\n",
       "      <td>...</td>\n",
       "      <td>...</td>\n",
       "      <td>...</td>\n",
       "      <td>...</td>\n",
       "      <td>...</td>\n",
       "      <td>...</td>\n",
       "      <td>...</td>\n",
       "      <td>...</td>\n",
       "      <td>...</td>\n",
       "      <td>...</td>\n",
       "      <td>...</td>\n",
       "    </tr>\n",
       "    <tr>\n",
       "      <th>95</th>\n",
       "      <td>0.0000</td>\n",
       "      <td>2960.0000</td>\n",
       "      <td>0.0000</td>\n",
       "      <td>0.0000</td>\n",
       "      <td>0.0000</td>\n",
       "      <td>50.5000</td>\n",
       "      <td>36.0000</td>\n",
       "      <td>50.5893</td>\n",
       "      <td>53.6935</td>\n",
       "      <td>40.0000</td>\n",
       "      <td>35.0000</td>\n",
       "      <td>76.0000</td>\n",
       "    </tr>\n",
       "    <tr>\n",
       "      <th>96</th>\n",
       "      <td>0.0000</td>\n",
       "      <td>2960.0000</td>\n",
       "      <td>0.0000</td>\n",
       "      <td>0.0000</td>\n",
       "      <td>0.0000</td>\n",
       "      <td>50.5000</td>\n",
       "      <td>36.0000</td>\n",
       "      <td>50.5893</td>\n",
       "      <td>53.6935</td>\n",
       "      <td>40.0000</td>\n",
       "      <td>35.0000</td>\n",
       "      <td>71.9356</td>\n",
       "    </tr>\n",
       "    <tr>\n",
       "      <th>97</th>\n",
       "      <td>0.0000</td>\n",
       "      <td>2960.0000</td>\n",
       "      <td>0.0000</td>\n",
       "      <td>0.0000</td>\n",
       "      <td>0.0000</td>\n",
       "      <td>50.5000</td>\n",
       "      <td>36.0000</td>\n",
       "      <td>50.5893</td>\n",
       "      <td>53.6935</td>\n",
       "      <td>40.0000</td>\n",
       "      <td>35.0000</td>\n",
       "      <td>6.0000</td>\n",
       "    </tr>\n",
       "    <tr>\n",
       "      <th>98</th>\n",
       "      <td>0.0000</td>\n",
       "      <td>2960.0000</td>\n",
       "      <td>0.0000</td>\n",
       "      <td>0.0000</td>\n",
       "      <td>0.0000</td>\n",
       "      <td>50.5000</td>\n",
       "      <td>36.0000</td>\n",
       "      <td>50.5893</td>\n",
       "      <td>53.6935</td>\n",
       "      <td>40.0000</td>\n",
       "      <td>35.0000</td>\n",
       "      <td>87.0000</td>\n",
       "    </tr>\n",
       "    <tr>\n",
       "      <th>99</th>\n",
       "      <td>0.0000</td>\n",
       "      <td>2960.0000</td>\n",
       "      <td>0.0000</td>\n",
       "      <td>0.0000</td>\n",
       "      <td>0.0000</td>\n",
       "      <td>50.5000</td>\n",
       "      <td>36.0000</td>\n",
       "      <td>50.5893</td>\n",
       "      <td>53.6935</td>\n",
       "      <td>40.0000</td>\n",
       "      <td>35.0000</td>\n",
       "      <td>83.0000</td>\n",
       "    </tr>\n",
       "  </tbody>\n",
       "</table>\n",
       "<p>100 rows × 12 columns</p>\n",
       "</div>"
      ],
      "text/plain": [
       "    snowfall_inches  heating_degree_days  days_below_30F  days_below_20F  \\\n",
       "0            0.0000            2960.0000          0.0000          0.0000   \n",
       "1            0.0000            2960.0000          0.0000          0.0000   \n",
       "2            0.0000            2960.0000          0.0000          0.0000   \n",
       "3            0.0000            2960.0000          0.0000          0.0000   \n",
       "4            0.0000            2960.0000          0.0000          0.0000   \n",
       "..              ...                  ...             ...             ...   \n",
       "95           0.0000            2960.0000          0.0000          0.0000   \n",
       "96           0.0000            2960.0000          0.0000          0.0000   \n",
       "97           0.0000            2960.0000          0.0000          0.0000   \n",
       "98           0.0000            2960.0000          0.0000          0.0000   \n",
       "99           0.0000            2960.0000          0.0000          0.0000   \n",
       "\n",
       "    snowdepth_inches  january_avg_temp  january_min_temp  february_avg_temp  \\\n",
       "0             0.0000           50.5000           36.0000            50.5893   \n",
       "1             0.0000           50.5000           36.0000            50.5893   \n",
       "2             0.0000           50.5000           36.0000            50.5893   \n",
       "3             0.0000           50.5000           36.0000            50.5893   \n",
       "4             0.0000           50.5000           36.0000            50.5893   \n",
       "..               ...               ...               ...                ...   \n",
       "95            0.0000           50.5000           36.0000            50.5893   \n",
       "96            0.0000           50.5000           36.0000            50.5893   \n",
       "97            0.0000           50.5000           36.0000            50.5893   \n",
       "98            0.0000           50.5000           36.0000            50.5893   \n",
       "99            0.0000           50.5000           36.0000            50.5893   \n",
       "\n",
       "    march_avg_temp  march_min_temp  february_min_temp  energy_star_rating  \n",
       "0          53.6935         40.0000            35.0000             11.0000  \n",
       "1          53.6935         40.0000            35.0000             45.0000  \n",
       "2          53.6935         40.0000            35.0000             97.0000  \n",
       "3          53.6935         40.0000            35.0000             46.0000  \n",
       "4          53.6935         40.0000            35.0000            100.0000  \n",
       "..             ...             ...                ...                 ...  \n",
       "95         53.6935         40.0000            35.0000             76.0000  \n",
       "96         53.6935         40.0000            35.0000             71.9356  \n",
       "97         53.6935         40.0000            35.0000              6.0000  \n",
       "98         53.6935         40.0000            35.0000             87.0000  \n",
       "99         53.6935         40.0000            35.0000             83.0000  \n",
       "\n",
       "[100 rows x 12 columns]"
      ]
     },
     "execution_count": 108,
     "metadata": {},
     "output_type": "execute_result"
    }
   ],
   "source": [
    "df_all_onehot_imput = pd.DataFrame(X_all_onehot_micefit, columns = mice_onehot_cols)\n",
    "df_all_onehot_imput.head(100)"
   ]
  },
  {
   "cell_type": "code",
   "execution_count": 109,
   "id": "a3f94233",
   "metadata": {},
   "outputs": [
    {
     "name": "stdout",
     "output_type": "stream",
     "text": [
      "Index(['site_eui'], dtype='object')\n"
     ]
    },
    {
     "data": {
      "text/plain": [
       "(85462, 126)"
      ]
     },
     "execution_count": 109,
     "metadata": {},
     "output_type": "execute_result"
    }
   ],
   "source": [
    "## replace 'energy_star_rating' for df_all_onehot_dropcol_fillyear_micerate\n",
    "df_all_onehot_dropcol_fillyear_micerate = df_all_onehot_dropcol_fillyear\n",
    "df_all_onehot_dropcol_fillyear_micerate['energy_star_rating'] = df_all_onehot_imput['energy_star_rating']\n",
    "\n",
    "print (df_all_onehot_dropcol_fillyear_micerate.columns[np.sum(df_all_onehot_dropcol_fillyear_micerate.isnull())!=0])\n",
    "df_all_onehot_dropcol_fillyear_micerate.shape"
   ]
  },
  {
   "cell_type": "code",
   "execution_count": 110,
   "id": "c8e61741",
   "metadata": {},
   "outputs": [],
   "source": [
    "## Save df_all_onehot_fillyear to df_all_ordinal_dropcol_fillyear.csv\n",
    "df_all_onehot_dropcol_fillyear_micerate.to_csv('Data/df_all_onehot_dropcol_fillyear_micerate.csv', index=False)\n",
    "df_all_test = pd.read_csv('Data/df_all_onehot_dropcol_fillyear_micerate.csv')"
   ]
  },
  {
   "cell_type": "code",
   "execution_count": 111,
   "id": "74860303",
   "metadata": {},
   "outputs": [
    {
     "data": {
      "text/plain": [
       "(85462, 67)"
      ]
     },
     "execution_count": 111,
     "metadata": {},
     "output_type": "execute_result"
    }
   ],
   "source": [
    "## (2) impute 'energy_star_rating' for ordinal data\n",
    "df_all_ordinal_dropcol_fillyear.shape"
   ]
  },
  {
   "cell_type": "code",
   "execution_count": 112,
   "id": "37a1b609",
   "metadata": {},
   "outputs": [
    {
     "data": {
      "text/html": [
       "<div>\n",
       "<style scoped>\n",
       "    .dataframe tbody tr th:only-of-type {\n",
       "        vertical-align: middle;\n",
       "    }\n",
       "\n",
       "    .dataframe tbody tr th {\n",
       "        vertical-align: top;\n",
       "    }\n",
       "\n",
       "    .dataframe thead th {\n",
       "        text-align: right;\n",
       "    }\n",
       "</style>\n",
       "<table border=\"1\" class=\"dataframe\">\n",
       "  <thead>\n",
       "    <tr style=\"text-align: right;\">\n",
       "      <th></th>\n",
       "      <th>facility_type</th>\n",
       "      <th>snowfall_inches</th>\n",
       "      <th>heating_degree_days</th>\n",
       "      <th>days_below_30F</th>\n",
       "      <th>days_below_20F</th>\n",
       "      <th>snowdepth_inches</th>\n",
       "      <th>january_avg_temp</th>\n",
       "      <th>january_min_temp</th>\n",
       "      <th>february_avg_temp</th>\n",
       "      <th>march_avg_temp</th>\n",
       "      <th>march_min_temp</th>\n",
       "      <th>february_min_temp</th>\n",
       "      <th>energy_star_rating</th>\n",
       "    </tr>\n",
       "  </thead>\n",
       "  <tbody>\n",
       "    <tr>\n",
       "      <th>0</th>\n",
       "      <td>56</td>\n",
       "      <td>0.0000</td>\n",
       "      <td>2960</td>\n",
       "      <td>0</td>\n",
       "      <td>0</td>\n",
       "      <td>0</td>\n",
       "      <td>50.5000</td>\n",
       "      <td>36</td>\n",
       "      <td>50.5893</td>\n",
       "      <td>53.6935</td>\n",
       "      <td>40</td>\n",
       "      <td>35</td>\n",
       "      <td>11.0000</td>\n",
       "    </tr>\n",
       "    <tr>\n",
       "      <th>1</th>\n",
       "      <td>6</td>\n",
       "      <td>0.0000</td>\n",
       "      <td>2960</td>\n",
       "      <td>0</td>\n",
       "      <td>0</td>\n",
       "      <td>0</td>\n",
       "      <td>50.5000</td>\n",
       "      <td>36</td>\n",
       "      <td>50.5893</td>\n",
       "      <td>53.6935</td>\n",
       "      <td>40</td>\n",
       "      <td>35</td>\n",
       "      <td>45.0000</td>\n",
       "    </tr>\n",
       "    <tr>\n",
       "      <th>2</th>\n",
       "      <td>30</td>\n",
       "      <td>0.0000</td>\n",
       "      <td>2960</td>\n",
       "      <td>0</td>\n",
       "      <td>0</td>\n",
       "      <td>0</td>\n",
       "      <td>50.5000</td>\n",
       "      <td>36</td>\n",
       "      <td>50.5893</td>\n",
       "      <td>53.6935</td>\n",
       "      <td>40</td>\n",
       "      <td>35</td>\n",
       "      <td>97.0000</td>\n",
       "    </tr>\n",
       "    <tr>\n",
       "      <th>3</th>\n",
       "      <td>16</td>\n",
       "      <td>0.0000</td>\n",
       "      <td>2960</td>\n",
       "      <td>0</td>\n",
       "      <td>0</td>\n",
       "      <td>0</td>\n",
       "      <td>50.5000</td>\n",
       "      <td>36</td>\n",
       "      <td>50.5893</td>\n",
       "      <td>53.6935</td>\n",
       "      <td>40</td>\n",
       "      <td>35</td>\n",
       "      <td>46.0000</td>\n",
       "    </tr>\n",
       "    <tr>\n",
       "      <th>4</th>\n",
       "      <td>5</td>\n",
       "      <td>0.0000</td>\n",
       "      <td>2960</td>\n",
       "      <td>0</td>\n",
       "      <td>0</td>\n",
       "      <td>0</td>\n",
       "      <td>50.5000</td>\n",
       "      <td>36</td>\n",
       "      <td>50.5893</td>\n",
       "      <td>53.6935</td>\n",
       "      <td>40</td>\n",
       "      <td>35</td>\n",
       "      <td>100.0000</td>\n",
       "    </tr>\n",
       "    <tr>\n",
       "      <th>...</th>\n",
       "      <td>...</td>\n",
       "      <td>...</td>\n",
       "      <td>...</td>\n",
       "      <td>...</td>\n",
       "      <td>...</td>\n",
       "      <td>...</td>\n",
       "      <td>...</td>\n",
       "      <td>...</td>\n",
       "      <td>...</td>\n",
       "      <td>...</td>\n",
       "      <td>...</td>\n",
       "      <td>...</td>\n",
       "      <td>...</td>\n",
       "    </tr>\n",
       "    <tr>\n",
       "      <th>95</th>\n",
       "      <td>17</td>\n",
       "      <td>0.0000</td>\n",
       "      <td>2960</td>\n",
       "      <td>0</td>\n",
       "      <td>0</td>\n",
       "      <td>0</td>\n",
       "      <td>50.5000</td>\n",
       "      <td>36</td>\n",
       "      <td>50.5893</td>\n",
       "      <td>53.6935</td>\n",
       "      <td>40</td>\n",
       "      <td>35</td>\n",
       "      <td>76.0000</td>\n",
       "    </tr>\n",
       "    <tr>\n",
       "      <th>96</th>\n",
       "      <td>37</td>\n",
       "      <td>0.0000</td>\n",
       "      <td>2960</td>\n",
       "      <td>0</td>\n",
       "      <td>0</td>\n",
       "      <td>0</td>\n",
       "      <td>50.5000</td>\n",
       "      <td>36</td>\n",
       "      <td>50.5893</td>\n",
       "      <td>53.6935</td>\n",
       "      <td>40</td>\n",
       "      <td>35</td>\n",
       "      <td>NaN</td>\n",
       "    </tr>\n",
       "    <tr>\n",
       "      <th>97</th>\n",
       "      <td>19</td>\n",
       "      <td>0.0000</td>\n",
       "      <td>2960</td>\n",
       "      <td>0</td>\n",
       "      <td>0</td>\n",
       "      <td>0</td>\n",
       "      <td>50.5000</td>\n",
       "      <td>36</td>\n",
       "      <td>50.5893</td>\n",
       "      <td>53.6935</td>\n",
       "      <td>40</td>\n",
       "      <td>35</td>\n",
       "      <td>6.0000</td>\n",
       "    </tr>\n",
       "    <tr>\n",
       "      <th>98</th>\n",
       "      <td>34</td>\n",
       "      <td>0.0000</td>\n",
       "      <td>2960</td>\n",
       "      <td>0</td>\n",
       "      <td>0</td>\n",
       "      <td>0</td>\n",
       "      <td>50.5000</td>\n",
       "      <td>36</td>\n",
       "      <td>50.5893</td>\n",
       "      <td>53.6935</td>\n",
       "      <td>40</td>\n",
       "      <td>35</td>\n",
       "      <td>87.0000</td>\n",
       "    </tr>\n",
       "    <tr>\n",
       "      <th>99</th>\n",
       "      <td>34</td>\n",
       "      <td>0.0000</td>\n",
       "      <td>2960</td>\n",
       "      <td>0</td>\n",
       "      <td>0</td>\n",
       "      <td>0</td>\n",
       "      <td>50.5000</td>\n",
       "      <td>36</td>\n",
       "      <td>50.5893</td>\n",
       "      <td>53.6935</td>\n",
       "      <td>40</td>\n",
       "      <td>35</td>\n",
       "      <td>83.0000</td>\n",
       "    </tr>\n",
       "  </tbody>\n",
       "</table>\n",
       "<p>100 rows × 13 columns</p>\n",
       "</div>"
      ],
      "text/plain": [
       "    facility_type  snowfall_inches  heating_degree_days  days_below_30F  \\\n",
       "0              56           0.0000                 2960               0   \n",
       "1               6           0.0000                 2960               0   \n",
       "2              30           0.0000                 2960               0   \n",
       "3              16           0.0000                 2960               0   \n",
       "4               5           0.0000                 2960               0   \n",
       "..            ...              ...                  ...             ...   \n",
       "95             17           0.0000                 2960               0   \n",
       "96             37           0.0000                 2960               0   \n",
       "97             19           0.0000                 2960               0   \n",
       "98             34           0.0000                 2960               0   \n",
       "99             34           0.0000                 2960               0   \n",
       "\n",
       "    days_below_20F  snowdepth_inches  january_avg_temp  january_min_temp  \\\n",
       "0                0                 0           50.5000                36   \n",
       "1                0                 0           50.5000                36   \n",
       "2                0                 0           50.5000                36   \n",
       "3                0                 0           50.5000                36   \n",
       "4                0                 0           50.5000                36   \n",
       "..             ...               ...               ...               ...   \n",
       "95               0                 0           50.5000                36   \n",
       "96               0                 0           50.5000                36   \n",
       "97               0                 0           50.5000                36   \n",
       "98               0                 0           50.5000                36   \n",
       "99               0                 0           50.5000                36   \n",
       "\n",
       "    february_avg_temp  march_avg_temp  march_min_temp  february_min_temp  \\\n",
       "0             50.5893         53.6935              40                 35   \n",
       "1             50.5893         53.6935              40                 35   \n",
       "2             50.5893         53.6935              40                 35   \n",
       "3             50.5893         53.6935              40                 35   \n",
       "4             50.5893         53.6935              40                 35   \n",
       "..                ...             ...             ...                ...   \n",
       "95            50.5893         53.6935              40                 35   \n",
       "96            50.5893         53.6935              40                 35   \n",
       "97            50.5893         53.6935              40                 35   \n",
       "98            50.5893         53.6935              40                 35   \n",
       "99            50.5893         53.6935              40                 35   \n",
       "\n",
       "    energy_star_rating  \n",
       "0              11.0000  \n",
       "1              45.0000  \n",
       "2              97.0000  \n",
       "3              46.0000  \n",
       "4             100.0000  \n",
       "..                 ...  \n",
       "95             76.0000  \n",
       "96                 NaN  \n",
       "97              6.0000  \n",
       "98             87.0000  \n",
       "99             83.0000  \n",
       "\n",
       "[100 rows x 13 columns]"
      ]
     },
     "execution_count": 112,
     "metadata": {},
     "output_type": "execute_result"
    }
   ],
   "source": [
    "mice_ordinal_cols = ['facility_type', 'snowfall_inches', 'heating_degree_days', 'days_below_30F', 'days_below_20F', 'snowdepth_inches', 'january_avg_temp',\n",
    "                   'january_min_temp', 'february_avg_temp', 'march_avg_temp', 'march_min_temp', 'february_min_temp', 'energy_star_rating']\n",
    "X_all_ordinal_mice = df_all_ordinal_dropcol_fillyear[mice_ordinal_cols]\n",
    "X_all_ordinal_mice.head(100)"
   ]
  },
  {
   "cell_type": "code",
   "execution_count": 113,
   "id": "346039fc",
   "metadata": {},
   "outputs": [
    {
     "name": "stdout",
     "output_type": "stream",
     "text": [
      "[IterativeImputer] Completing matrix with shape (85462, 13)\n",
      "[IterativeImputer] Ending imputation round 1/30, elapsed time 0.34\n",
      "[IterativeImputer] Change: 26.34460802008109, scaled tolerance: 7.929000000000001e-07 \n",
      "[IterativeImputer] Ending imputation round 2/30, elapsed time 0.67\n",
      "[IterativeImputer] Change: 0.0, scaled tolerance: 7.929000000000001e-07 \n",
      "[IterativeImputer] Early stopping criterion reached.\n",
      "[IterativeImputer] Completing matrix with shape (85462, 13)\n",
      "[IterativeImputer] Ending imputation round 1/2, elapsed time 0.01\n",
      "[IterativeImputer] Ending imputation round 2/2, elapsed time 0.01\n"
     ]
    }
   ],
   "source": [
    "lr = LinearRegression()\n",
    "imp = IterativeImputer(estimator=lr, tol=1e-10, max_iter=30, verbose=2, imputation_order='roman')\n",
    "imp.fit(X_all_ordinal_mice)\n",
    "X_all_ordinal_micefit  = imp.transform(X_all_ordinal_mice)"
   ]
  },
  {
   "cell_type": "code",
   "execution_count": 114,
   "id": "484033ee",
   "metadata": {},
   "outputs": [
    {
     "data": {
      "text/html": [
       "<div>\n",
       "<style scoped>\n",
       "    .dataframe tbody tr th:only-of-type {\n",
       "        vertical-align: middle;\n",
       "    }\n",
       "\n",
       "    .dataframe tbody tr th {\n",
       "        vertical-align: top;\n",
       "    }\n",
       "\n",
       "    .dataframe thead th {\n",
       "        text-align: right;\n",
       "    }\n",
       "</style>\n",
       "<table border=\"1\" class=\"dataframe\">\n",
       "  <thead>\n",
       "    <tr style=\"text-align: right;\">\n",
       "      <th></th>\n",
       "      <th>facility_type</th>\n",
       "      <th>snowfall_inches</th>\n",
       "      <th>heating_degree_days</th>\n",
       "      <th>days_below_30F</th>\n",
       "      <th>days_below_20F</th>\n",
       "      <th>snowdepth_inches</th>\n",
       "      <th>january_avg_temp</th>\n",
       "      <th>january_min_temp</th>\n",
       "      <th>february_avg_temp</th>\n",
       "      <th>march_avg_temp</th>\n",
       "      <th>march_min_temp</th>\n",
       "      <th>february_min_temp</th>\n",
       "      <th>energy_star_rating</th>\n",
       "    </tr>\n",
       "  </thead>\n",
       "  <tbody>\n",
       "    <tr>\n",
       "      <th>0</th>\n",
       "      <td>56.0000</td>\n",
       "      <td>0.0000</td>\n",
       "      <td>2960.0000</td>\n",
       "      <td>0.0000</td>\n",
       "      <td>0.0000</td>\n",
       "      <td>0.0000</td>\n",
       "      <td>50.5000</td>\n",
       "      <td>36.0000</td>\n",
       "      <td>50.5893</td>\n",
       "      <td>53.6935</td>\n",
       "      <td>40.0000</td>\n",
       "      <td>35.0000</td>\n",
       "      <td>11.0000</td>\n",
       "    </tr>\n",
       "    <tr>\n",
       "      <th>1</th>\n",
       "      <td>6.0000</td>\n",
       "      <td>0.0000</td>\n",
       "      <td>2960.0000</td>\n",
       "      <td>0.0000</td>\n",
       "      <td>0.0000</td>\n",
       "      <td>0.0000</td>\n",
       "      <td>50.5000</td>\n",
       "      <td>36.0000</td>\n",
       "      <td>50.5893</td>\n",
       "      <td>53.6935</td>\n",
       "      <td>40.0000</td>\n",
       "      <td>35.0000</td>\n",
       "      <td>45.0000</td>\n",
       "    </tr>\n",
       "    <tr>\n",
       "      <th>2</th>\n",
       "      <td>30.0000</td>\n",
       "      <td>0.0000</td>\n",
       "      <td>2960.0000</td>\n",
       "      <td>0.0000</td>\n",
       "      <td>0.0000</td>\n",
       "      <td>0.0000</td>\n",
       "      <td>50.5000</td>\n",
       "      <td>36.0000</td>\n",
       "      <td>50.5893</td>\n",
       "      <td>53.6935</td>\n",
       "      <td>40.0000</td>\n",
       "      <td>35.0000</td>\n",
       "      <td>97.0000</td>\n",
       "    </tr>\n",
       "    <tr>\n",
       "      <th>3</th>\n",
       "      <td>16.0000</td>\n",
       "      <td>0.0000</td>\n",
       "      <td>2960.0000</td>\n",
       "      <td>0.0000</td>\n",
       "      <td>0.0000</td>\n",
       "      <td>0.0000</td>\n",
       "      <td>50.5000</td>\n",
       "      <td>36.0000</td>\n",
       "      <td>50.5893</td>\n",
       "      <td>53.6935</td>\n",
       "      <td>40.0000</td>\n",
       "      <td>35.0000</td>\n",
       "      <td>46.0000</td>\n",
       "    </tr>\n",
       "    <tr>\n",
       "      <th>4</th>\n",
       "      <td>5.0000</td>\n",
       "      <td>0.0000</td>\n",
       "      <td>2960.0000</td>\n",
       "      <td>0.0000</td>\n",
       "      <td>0.0000</td>\n",
       "      <td>0.0000</td>\n",
       "      <td>50.5000</td>\n",
       "      <td>36.0000</td>\n",
       "      <td>50.5893</td>\n",
       "      <td>53.6935</td>\n",
       "      <td>40.0000</td>\n",
       "      <td>35.0000</td>\n",
       "      <td>100.0000</td>\n",
       "    </tr>\n",
       "    <tr>\n",
       "      <th>...</th>\n",
       "      <td>...</td>\n",
       "      <td>...</td>\n",
       "      <td>...</td>\n",
       "      <td>...</td>\n",
       "      <td>...</td>\n",
       "      <td>...</td>\n",
       "      <td>...</td>\n",
       "      <td>...</td>\n",
       "      <td>...</td>\n",
       "      <td>...</td>\n",
       "      <td>...</td>\n",
       "      <td>...</td>\n",
       "      <td>...</td>\n",
       "    </tr>\n",
       "    <tr>\n",
       "      <th>95</th>\n",
       "      <td>17.0000</td>\n",
       "      <td>0.0000</td>\n",
       "      <td>2960.0000</td>\n",
       "      <td>0.0000</td>\n",
       "      <td>0.0000</td>\n",
       "      <td>0.0000</td>\n",
       "      <td>50.5000</td>\n",
       "      <td>36.0000</td>\n",
       "      <td>50.5893</td>\n",
       "      <td>53.6935</td>\n",
       "      <td>40.0000</td>\n",
       "      <td>35.0000</td>\n",
       "      <td>76.0000</td>\n",
       "    </tr>\n",
       "    <tr>\n",
       "      <th>96</th>\n",
       "      <td>37.0000</td>\n",
       "      <td>0.0000</td>\n",
       "      <td>2960.0000</td>\n",
       "      <td>0.0000</td>\n",
       "      <td>0.0000</td>\n",
       "      <td>0.0000</td>\n",
       "      <td>50.5000</td>\n",
       "      <td>36.0000</td>\n",
       "      <td>50.5893</td>\n",
       "      <td>53.6935</td>\n",
       "      <td>40.0000</td>\n",
       "      <td>35.0000</td>\n",
       "      <td>60.2257</td>\n",
       "    </tr>\n",
       "    <tr>\n",
       "      <th>97</th>\n",
       "      <td>19.0000</td>\n",
       "      <td>0.0000</td>\n",
       "      <td>2960.0000</td>\n",
       "      <td>0.0000</td>\n",
       "      <td>0.0000</td>\n",
       "      <td>0.0000</td>\n",
       "      <td>50.5000</td>\n",
       "      <td>36.0000</td>\n",
       "      <td>50.5893</td>\n",
       "      <td>53.6935</td>\n",
       "      <td>40.0000</td>\n",
       "      <td>35.0000</td>\n",
       "      <td>6.0000</td>\n",
       "    </tr>\n",
       "    <tr>\n",
       "      <th>98</th>\n",
       "      <td>34.0000</td>\n",
       "      <td>0.0000</td>\n",
       "      <td>2960.0000</td>\n",
       "      <td>0.0000</td>\n",
       "      <td>0.0000</td>\n",
       "      <td>0.0000</td>\n",
       "      <td>50.5000</td>\n",
       "      <td>36.0000</td>\n",
       "      <td>50.5893</td>\n",
       "      <td>53.6935</td>\n",
       "      <td>40.0000</td>\n",
       "      <td>35.0000</td>\n",
       "      <td>87.0000</td>\n",
       "    </tr>\n",
       "    <tr>\n",
       "      <th>99</th>\n",
       "      <td>34.0000</td>\n",
       "      <td>0.0000</td>\n",
       "      <td>2960.0000</td>\n",
       "      <td>0.0000</td>\n",
       "      <td>0.0000</td>\n",
       "      <td>0.0000</td>\n",
       "      <td>50.5000</td>\n",
       "      <td>36.0000</td>\n",
       "      <td>50.5893</td>\n",
       "      <td>53.6935</td>\n",
       "      <td>40.0000</td>\n",
       "      <td>35.0000</td>\n",
       "      <td>83.0000</td>\n",
       "    </tr>\n",
       "  </tbody>\n",
       "</table>\n",
       "<p>100 rows × 13 columns</p>\n",
       "</div>"
      ],
      "text/plain": [
       "    facility_type  snowfall_inches  heating_degree_days  days_below_30F  \\\n",
       "0         56.0000           0.0000            2960.0000          0.0000   \n",
       "1          6.0000           0.0000            2960.0000          0.0000   \n",
       "2         30.0000           0.0000            2960.0000          0.0000   \n",
       "3         16.0000           0.0000            2960.0000          0.0000   \n",
       "4          5.0000           0.0000            2960.0000          0.0000   \n",
       "..            ...              ...                  ...             ...   \n",
       "95        17.0000           0.0000            2960.0000          0.0000   \n",
       "96        37.0000           0.0000            2960.0000          0.0000   \n",
       "97        19.0000           0.0000            2960.0000          0.0000   \n",
       "98        34.0000           0.0000            2960.0000          0.0000   \n",
       "99        34.0000           0.0000            2960.0000          0.0000   \n",
       "\n",
       "    days_below_20F  snowdepth_inches  january_avg_temp  january_min_temp  \\\n",
       "0           0.0000            0.0000           50.5000           36.0000   \n",
       "1           0.0000            0.0000           50.5000           36.0000   \n",
       "2           0.0000            0.0000           50.5000           36.0000   \n",
       "3           0.0000            0.0000           50.5000           36.0000   \n",
       "4           0.0000            0.0000           50.5000           36.0000   \n",
       "..             ...               ...               ...               ...   \n",
       "95          0.0000            0.0000           50.5000           36.0000   \n",
       "96          0.0000            0.0000           50.5000           36.0000   \n",
       "97          0.0000            0.0000           50.5000           36.0000   \n",
       "98          0.0000            0.0000           50.5000           36.0000   \n",
       "99          0.0000            0.0000           50.5000           36.0000   \n",
       "\n",
       "    february_avg_temp  march_avg_temp  march_min_temp  february_min_temp  \\\n",
       "0             50.5893         53.6935         40.0000            35.0000   \n",
       "1             50.5893         53.6935         40.0000            35.0000   \n",
       "2             50.5893         53.6935         40.0000            35.0000   \n",
       "3             50.5893         53.6935         40.0000            35.0000   \n",
       "4             50.5893         53.6935         40.0000            35.0000   \n",
       "..                ...             ...             ...                ...   \n",
       "95            50.5893         53.6935         40.0000            35.0000   \n",
       "96            50.5893         53.6935         40.0000            35.0000   \n",
       "97            50.5893         53.6935         40.0000            35.0000   \n",
       "98            50.5893         53.6935         40.0000            35.0000   \n",
       "99            50.5893         53.6935         40.0000            35.0000   \n",
       "\n",
       "    energy_star_rating  \n",
       "0              11.0000  \n",
       "1              45.0000  \n",
       "2              97.0000  \n",
       "3              46.0000  \n",
       "4             100.0000  \n",
       "..                 ...  \n",
       "95             76.0000  \n",
       "96             60.2257  \n",
       "97              6.0000  \n",
       "98             87.0000  \n",
       "99             83.0000  \n",
       "\n",
       "[100 rows x 13 columns]"
      ]
     },
     "execution_count": 114,
     "metadata": {},
     "output_type": "execute_result"
    }
   ],
   "source": [
    "df_all_ordinal_imput = pd.DataFrame(X_all_ordinal_micefit, columns = mice_ordinal_cols)\n",
    "df_all_ordinal_imput.head(100)"
   ]
  },
  {
   "cell_type": "code",
   "execution_count": 115,
   "id": "4e5600c3",
   "metadata": {},
   "outputs": [
    {
     "name": "stdout",
     "output_type": "stream",
     "text": [
      "Index(['site_eui'], dtype='object')\n"
     ]
    },
    {
     "data": {
      "text/plain": [
       "(85462, 67)"
      ]
     },
     "execution_count": 115,
     "metadata": {},
     "output_type": "execute_result"
    }
   ],
   "source": [
    "## replace 'energy_star_rating' for df_all_ordinal_dropcol_fillyear_micerate\n",
    "df_all_ordinal_dropcol_fillyear_micerate = df_all_ordinal_dropcol_fillyear\n",
    "df_all_ordinal_dropcol_fillyear_micerate['energy_star_rating'] = df_all_ordinal_imput['energy_star_rating']\n",
    "\n",
    "print (df_all_ordinal_dropcol_fillyear_micerate.columns[np.sum(df_all_ordinal_dropcol_fillyear_micerate.isnull())!=0])\n",
    "df_all_ordinal_dropcol_fillyear_micerate.shape"
   ]
  },
  {
   "cell_type": "code",
   "execution_count": 116,
   "id": "e05747ef",
   "metadata": {},
   "outputs": [],
   "source": [
    "## Save df_all_ordinal_fillyear to df_all_ordinal_dropcol_fillyear.csv\n",
    "df_all_ordinal_dropcol_fillyear_micerate.to_csv('Data/df_all_ordinal_dropcol_fillyear_micerate.csv', index=False)\n",
    "df_all_test = pd.read_csv('Data/df_all_ordinal_dropcol_fillyear_micerate.csv')"
   ]
  },
  {
   "cell_type": "code",
   "execution_count": 117,
   "id": "6df774c2",
   "metadata": {},
   "outputs": [
    {
     "data": {
      "text/html": [
       "<div>\n",
       "<style scoped>\n",
       "    .dataframe tbody tr th:only-of-type {\n",
       "        vertical-align: middle;\n",
       "    }\n",
       "\n",
       "    .dataframe tbody tr th {\n",
       "        vertical-align: top;\n",
       "    }\n",
       "\n",
       "    .dataframe thead th {\n",
       "        text-align: right;\n",
       "    }\n",
       "</style>\n",
       "<table border=\"1\" class=\"dataframe\">\n",
       "  <thead>\n",
       "    <tr style=\"text-align: right;\">\n",
       "      <th></th>\n",
       "      <th>Year_Factor</th>\n",
       "      <th>State_Factor</th>\n",
       "      <th>building_class</th>\n",
       "      <th>facility_type</th>\n",
       "      <th>floor_area</th>\n",
       "      <th>year_built</th>\n",
       "      <th>energy_star_rating</th>\n",
       "      <th>ELEVATION</th>\n",
       "      <th>january_min_temp</th>\n",
       "      <th>january_avg_temp</th>\n",
       "      <th>...</th>\n",
       "      <th>days_below_0F</th>\n",
       "      <th>days_above_80F</th>\n",
       "      <th>days_above_90F</th>\n",
       "      <th>days_above_100F</th>\n",
       "      <th>days_above_110F</th>\n",
       "      <th>direction_max_wind_speed</th>\n",
       "      <th>direction_peak_wind_speed</th>\n",
       "      <th>max_wind_speed</th>\n",
       "      <th>days_with_fog</th>\n",
       "      <th>id</th>\n",
       "    </tr>\n",
       "  </thead>\n",
       "  <tbody>\n",
       "    <tr>\n",
       "      <th>0</th>\n",
       "      <td>7</td>\n",
       "      <td>State_1</td>\n",
       "      <td>Commercial</td>\n",
       "      <td>Grocery_store_or_food_market</td>\n",
       "      <td>28484.0000</td>\n",
       "      <td>1994.0000</td>\n",
       "      <td>37.0000</td>\n",
       "      <td>2.4000</td>\n",
       "      <td>38</td>\n",
       "      <td>50.5968</td>\n",
       "      <td>...</td>\n",
       "      <td>0</td>\n",
       "      <td>29</td>\n",
       "      <td>5</td>\n",
       "      <td>2</td>\n",
       "      <td>0</td>\n",
       "      <td>NaN</td>\n",
       "      <td>NaN</td>\n",
       "      <td>NaN</td>\n",
       "      <td>NaN</td>\n",
       "      <td>75757</td>\n",
       "    </tr>\n",
       "    <tr>\n",
       "      <th>1</th>\n",
       "      <td>7</td>\n",
       "      <td>State_1</td>\n",
       "      <td>Commercial</td>\n",
       "      <td>Grocery_store_or_food_market</td>\n",
       "      <td>21906.0000</td>\n",
       "      <td>1961.0000</td>\n",
       "      <td>55.0000</td>\n",
       "      <td>45.7000</td>\n",
       "      <td>38</td>\n",
       "      <td>50.5968</td>\n",
       "      <td>...</td>\n",
       "      <td>0</td>\n",
       "      <td>29</td>\n",
       "      <td>5</td>\n",
       "      <td>2</td>\n",
       "      <td>0</td>\n",
       "      <td>NaN</td>\n",
       "      <td>NaN</td>\n",
       "      <td>NaN</td>\n",
       "      <td>NaN</td>\n",
       "      <td>75758</td>\n",
       "    </tr>\n",
       "    <tr>\n",
       "      <th>2</th>\n",
       "      <td>7</td>\n",
       "      <td>State_1</td>\n",
       "      <td>Commercial</td>\n",
       "      <td>Grocery_store_or_food_market</td>\n",
       "      <td>16138.0000</td>\n",
       "      <td>1950.0000</td>\n",
       "      <td>1.0000</td>\n",
       "      <td>59.1000</td>\n",
       "      <td>38</td>\n",
       "      <td>50.5968</td>\n",
       "      <td>...</td>\n",
       "      <td>0</td>\n",
       "      <td>29</td>\n",
       "      <td>5</td>\n",
       "      <td>2</td>\n",
       "      <td>0</td>\n",
       "      <td>NaN</td>\n",
       "      <td>NaN</td>\n",
       "      <td>NaN</td>\n",
       "      <td>NaN</td>\n",
       "      <td>75759</td>\n",
       "    </tr>\n",
       "    <tr>\n",
       "      <th>3</th>\n",
       "      <td>7</td>\n",
       "      <td>State_1</td>\n",
       "      <td>Commercial</td>\n",
       "      <td>Grocery_store_or_food_market</td>\n",
       "      <td>97422.0000</td>\n",
       "      <td>1971.0000</td>\n",
       "      <td>34.0000</td>\n",
       "      <td>35.4000</td>\n",
       "      <td>38</td>\n",
       "      <td>50.5968</td>\n",
       "      <td>...</td>\n",
       "      <td>0</td>\n",
       "      <td>29</td>\n",
       "      <td>5</td>\n",
       "      <td>2</td>\n",
       "      <td>0</td>\n",
       "      <td>NaN</td>\n",
       "      <td>NaN</td>\n",
       "      <td>NaN</td>\n",
       "      <td>NaN</td>\n",
       "      <td>75760</td>\n",
       "    </tr>\n",
       "    <tr>\n",
       "      <th>4</th>\n",
       "      <td>7</td>\n",
       "      <td>State_1</td>\n",
       "      <td>Commercial</td>\n",
       "      <td>Grocery_store_or_food_market</td>\n",
       "      <td>61242.0000</td>\n",
       "      <td>1942.0000</td>\n",
       "      <td>35.0000</td>\n",
       "      <td>1.8000</td>\n",
       "      <td>38</td>\n",
       "      <td>50.5968</td>\n",
       "      <td>...</td>\n",
       "      <td>0</td>\n",
       "      <td>29</td>\n",
       "      <td>5</td>\n",
       "      <td>2</td>\n",
       "      <td>0</td>\n",
       "      <td>340.0000</td>\n",
       "      <td>330.0000</td>\n",
       "      <td>22.8000</td>\n",
       "      <td>126.0000</td>\n",
       "      <td>75761</td>\n",
       "    </tr>\n",
       "  </tbody>\n",
       "</table>\n",
       "<p>5 rows × 63 columns</p>\n",
       "</div>"
      ],
      "text/plain": [
       "   Year_Factor State_Factor building_class                 facility_type  \\\n",
       "0            7      State_1     Commercial  Grocery_store_or_food_market   \n",
       "1            7      State_1     Commercial  Grocery_store_or_food_market   \n",
       "2            7      State_1     Commercial  Grocery_store_or_food_market   \n",
       "3            7      State_1     Commercial  Grocery_store_or_food_market   \n",
       "4            7      State_1     Commercial  Grocery_store_or_food_market   \n",
       "\n",
       "   floor_area  year_built  energy_star_rating  ELEVATION  january_min_temp  \\\n",
       "0  28484.0000   1994.0000             37.0000     2.4000                38   \n",
       "1  21906.0000   1961.0000             55.0000    45.7000                38   \n",
       "2  16138.0000   1950.0000              1.0000    59.1000                38   \n",
       "3  97422.0000   1971.0000             34.0000    35.4000                38   \n",
       "4  61242.0000   1942.0000             35.0000     1.8000                38   \n",
       "\n",
       "   january_avg_temp  ...  days_below_0F  days_above_80F  days_above_90F  \\\n",
       "0           50.5968  ...              0              29               5   \n",
       "1           50.5968  ...              0              29               5   \n",
       "2           50.5968  ...              0              29               5   \n",
       "3           50.5968  ...              0              29               5   \n",
       "4           50.5968  ...              0              29               5   \n",
       "\n",
       "   days_above_100F  days_above_110F  direction_max_wind_speed  \\\n",
       "0                2                0                       NaN   \n",
       "1                2                0                       NaN   \n",
       "2                2                0                       NaN   \n",
       "3                2                0                       NaN   \n",
       "4                2                0                  340.0000   \n",
       "\n",
       "   direction_peak_wind_speed  max_wind_speed  days_with_fog     id  \n",
       "0                        NaN             NaN            NaN  75757  \n",
       "1                        NaN             NaN            NaN  75758  \n",
       "2                        NaN             NaN            NaN  75759  \n",
       "3                        NaN             NaN            NaN  75760  \n",
       "4                   330.0000         22.8000       126.0000  75761  \n",
       "\n",
       "[5 rows x 63 columns]"
      ]
     },
     "execution_count": 117,
     "metadata": {},
     "output_type": "execute_result"
    }
   ],
   "source": [
    "df_all_test = pd.read_csv('Data/test.csv')\n",
    "df_all_test.head()"
   ]
  },
  {
   "cell_type": "code",
   "execution_count": null,
   "id": "9abad5e3",
   "metadata": {},
   "outputs": [],
   "source": []
  },
  {
   "cell_type": "code",
   "execution_count": null,
   "id": "755bfd99",
   "metadata": {},
   "outputs": [],
   "source": []
  },
  {
   "cell_type": "code",
   "execution_count": null,
   "id": "005d24d7",
   "metadata": {},
   "outputs": [],
   "source": []
  },
  {
   "cell_type": "raw",
   "id": "f8ba8b30",
   "metadata": {},
   "source": []
  },
  {
   "cell_type": "markdown",
   "id": "9ed97c90",
   "metadata": {},
   "source": [
    "## Data pre-processing for ML model"
   ]
  },
  {
   "cell_type": "code",
   "execution_count": 118,
   "id": "75a65f63",
   "metadata": {},
   "outputs": [
    {
     "name": "stdout",
     "output_type": "stream",
     "text": [
      "(75757, 126)\n",
      "(9705, 126)\n"
     ]
    }
   ],
   "source": [
    "## 1) Resume to train/test data for onehot data\n",
    "df_train_D1 = df_all_onehot_dropcol_fillyear_micerate[:75757]\n",
    "df_test_D1 = df_all_onehot_dropcol_fillyear_micerate[75757:]\n",
    "print(df_train_D1.shape)\n",
    "print(df_test_D1.shape)"
   ]
  },
  {
   "cell_type": "code",
   "execution_count": 119,
   "id": "2b8eb081",
   "metadata": {},
   "outputs": [
    {
     "name": "stdout",
     "output_type": "stream",
     "text": [
      "(75757, 67)\n",
      "(9705, 67)\n"
     ]
    }
   ],
   "source": [
    "## 2) Resume to train/test data for ordinal data\n",
    "df_train_D2 = df_all_ordinal_dropcol_fillyear_micerate[:75757]\n",
    "df_test_D2 = df_all_ordinal_dropcol_fillyear_micerate[75757:]\n",
    "print(df_train_D2.shape)\n",
    "print(df_test_D2.shape)"
   ]
  },
  {
   "cell_type": "markdown",
   "id": "59c50656",
   "metadata": {},
   "source": [
    "## Select the data for ML model"
   ]
  },
  {
   "cell_type": "code",
   "execution_count": 120,
   "id": "3c63cbdb",
   "metadata": {},
   "outputs": [
    {
     "name": "stdout",
     "output_type": "stream",
     "text": [
      "(75757, 125)\n",
      "(75757,)\n"
     ]
    },
    {
     "data": {
      "text/html": [
       "<div>\n",
       "<style scoped>\n",
       "    .dataframe tbody tr th:only-of-type {\n",
       "        vertical-align: middle;\n",
       "    }\n",
       "\n",
       "    .dataframe tbody tr th {\n",
       "        vertical-align: top;\n",
       "    }\n",
       "\n",
       "    .dataframe thead th {\n",
       "        text-align: right;\n",
       "    }\n",
       "</style>\n",
       "<table border=\"1\" class=\"dataframe\">\n",
       "  <thead>\n",
       "    <tr style=\"text-align: right;\">\n",
       "      <th></th>\n",
       "      <th>Year_Factor</th>\n",
       "      <th>floor_area</th>\n",
       "      <th>year_built</th>\n",
       "      <th>energy_star_rating</th>\n",
       "      <th>ELEVATION</th>\n",
       "      <th>january_min_temp</th>\n",
       "      <th>january_avg_temp</th>\n",
       "      <th>january_max_temp</th>\n",
       "      <th>february_min_temp</th>\n",
       "      <th>february_avg_temp</th>\n",
       "      <th>...</th>\n",
       "      <th>facility_type_Warehouse_Uncategorized</th>\n",
       "      <th>State_Factor_State_1</th>\n",
       "      <th>State_Factor_State_10</th>\n",
       "      <th>State_Factor_State_11</th>\n",
       "      <th>State_Factor_State_2</th>\n",
       "      <th>State_Factor_State_4</th>\n",
       "      <th>State_Factor_State_6</th>\n",
       "      <th>State_Factor_State_8</th>\n",
       "      <th>building_class_Commercial</th>\n",
       "      <th>building_class_Residential</th>\n",
       "    </tr>\n",
       "  </thead>\n",
       "  <tbody>\n",
       "    <tr>\n",
       "      <th>0</th>\n",
       "      <td>1</td>\n",
       "      <td>61242.0000</td>\n",
       "      <td>1942.0000</td>\n",
       "      <td>11.0000</td>\n",
       "      <td>2.4000</td>\n",
       "      <td>36</td>\n",
       "      <td>50.5000</td>\n",
       "      <td>68</td>\n",
       "      <td>35</td>\n",
       "      <td>50.5893</td>\n",
       "      <td>...</td>\n",
       "      <td>0.0000</td>\n",
       "      <td>1.0000</td>\n",
       "      <td>0.0000</td>\n",
       "      <td>0.0000</td>\n",
       "      <td>0.0000</td>\n",
       "      <td>0.0000</td>\n",
       "      <td>0.0000</td>\n",
       "      <td>0.0000</td>\n",
       "      <td>1.0000</td>\n",
       "      <td>0.0000</td>\n",
       "    </tr>\n",
       "    <tr>\n",
       "      <th>1</th>\n",
       "      <td>1</td>\n",
       "      <td>274000.0000</td>\n",
       "      <td>1955.0000</td>\n",
       "      <td>45.0000</td>\n",
       "      <td>1.8000</td>\n",
       "      <td>36</td>\n",
       "      <td>50.5000</td>\n",
       "      <td>68</td>\n",
       "      <td>35</td>\n",
       "      <td>50.5893</td>\n",
       "      <td>...</td>\n",
       "      <td>0.0000</td>\n",
       "      <td>1.0000</td>\n",
       "      <td>0.0000</td>\n",
       "      <td>0.0000</td>\n",
       "      <td>0.0000</td>\n",
       "      <td>0.0000</td>\n",
       "      <td>0.0000</td>\n",
       "      <td>0.0000</td>\n",
       "      <td>1.0000</td>\n",
       "      <td>0.0000</td>\n",
       "    </tr>\n",
       "    <tr>\n",
       "      <th>2</th>\n",
       "      <td>1</td>\n",
       "      <td>280025.0000</td>\n",
       "      <td>1951.0000</td>\n",
       "      <td>97.0000</td>\n",
       "      <td>1.8000</td>\n",
       "      <td>36</td>\n",
       "      <td>50.5000</td>\n",
       "      <td>68</td>\n",
       "      <td>35</td>\n",
       "      <td>50.5893</td>\n",
       "      <td>...</td>\n",
       "      <td>0.0000</td>\n",
       "      <td>1.0000</td>\n",
       "      <td>0.0000</td>\n",
       "      <td>0.0000</td>\n",
       "      <td>0.0000</td>\n",
       "      <td>0.0000</td>\n",
       "      <td>0.0000</td>\n",
       "      <td>0.0000</td>\n",
       "      <td>1.0000</td>\n",
       "      <td>0.0000</td>\n",
       "    </tr>\n",
       "    <tr>\n",
       "      <th>3</th>\n",
       "      <td>1</td>\n",
       "      <td>55325.0000</td>\n",
       "      <td>1980.0000</td>\n",
       "      <td>46.0000</td>\n",
       "      <td>1.8000</td>\n",
       "      <td>36</td>\n",
       "      <td>50.5000</td>\n",
       "      <td>68</td>\n",
       "      <td>35</td>\n",
       "      <td>50.5893</td>\n",
       "      <td>...</td>\n",
       "      <td>0.0000</td>\n",
       "      <td>1.0000</td>\n",
       "      <td>0.0000</td>\n",
       "      <td>0.0000</td>\n",
       "      <td>0.0000</td>\n",
       "      <td>0.0000</td>\n",
       "      <td>0.0000</td>\n",
       "      <td>0.0000</td>\n",
       "      <td>1.0000</td>\n",
       "      <td>0.0000</td>\n",
       "    </tr>\n",
       "    <tr>\n",
       "      <th>4</th>\n",
       "      <td>1</td>\n",
       "      <td>66000.0000</td>\n",
       "      <td>1985.0000</td>\n",
       "      <td>100.0000</td>\n",
       "      <td>2.4000</td>\n",
       "      <td>36</td>\n",
       "      <td>50.5000</td>\n",
       "      <td>68</td>\n",
       "      <td>35</td>\n",
       "      <td>50.5893</td>\n",
       "      <td>...</td>\n",
       "      <td>0.0000</td>\n",
       "      <td>1.0000</td>\n",
       "      <td>0.0000</td>\n",
       "      <td>0.0000</td>\n",
       "      <td>0.0000</td>\n",
       "      <td>0.0000</td>\n",
       "      <td>0.0000</td>\n",
       "      <td>0.0000</td>\n",
       "      <td>1.0000</td>\n",
       "      <td>0.0000</td>\n",
       "    </tr>\n",
       "  </tbody>\n",
       "</table>\n",
       "<p>5 rows × 125 columns</p>\n",
       "</div>"
      ],
      "text/plain": [
       "   Year_Factor  floor_area  year_built  energy_star_rating  ELEVATION  \\\n",
       "0            1  61242.0000   1942.0000             11.0000     2.4000   \n",
       "1            1 274000.0000   1955.0000             45.0000     1.8000   \n",
       "2            1 280025.0000   1951.0000             97.0000     1.8000   \n",
       "3            1  55325.0000   1980.0000             46.0000     1.8000   \n",
       "4            1  66000.0000   1985.0000            100.0000     2.4000   \n",
       "\n",
       "   january_min_temp  january_avg_temp  january_max_temp  february_min_temp  \\\n",
       "0                36           50.5000                68                 35   \n",
       "1                36           50.5000                68                 35   \n",
       "2                36           50.5000                68                 35   \n",
       "3                36           50.5000                68                 35   \n",
       "4                36           50.5000                68                 35   \n",
       "\n",
       "   february_avg_temp  ...  facility_type_Warehouse_Uncategorized  \\\n",
       "0            50.5893  ...                                 0.0000   \n",
       "1            50.5893  ...                                 0.0000   \n",
       "2            50.5893  ...                                 0.0000   \n",
       "3            50.5893  ...                                 0.0000   \n",
       "4            50.5893  ...                                 0.0000   \n",
       "\n",
       "   State_Factor_State_1  State_Factor_State_10  State_Factor_State_11  \\\n",
       "0                1.0000                 0.0000                 0.0000   \n",
       "1                1.0000                 0.0000                 0.0000   \n",
       "2                1.0000                 0.0000                 0.0000   \n",
       "3                1.0000                 0.0000                 0.0000   \n",
       "4                1.0000                 0.0000                 0.0000   \n",
       "\n",
       "   State_Factor_State_2  State_Factor_State_4  State_Factor_State_6  \\\n",
       "0                0.0000                0.0000                0.0000   \n",
       "1                0.0000                0.0000                0.0000   \n",
       "2                0.0000                0.0000                0.0000   \n",
       "3                0.0000                0.0000                0.0000   \n",
       "4                0.0000                0.0000                0.0000   \n",
       "\n",
       "   State_Factor_State_8  building_class_Commercial  building_class_Residential  \n",
       "0                0.0000                     1.0000                      0.0000  \n",
       "1                0.0000                     1.0000                      0.0000  \n",
       "2                0.0000                     1.0000                      0.0000  \n",
       "3                0.0000                     1.0000                      0.0000  \n",
       "4                0.0000                     1.0000                      0.0000  \n",
       "\n",
       "[5 rows x 125 columns]"
      ]
     },
     "execution_count": 120,
     "metadata": {},
     "output_type": "execute_result"
    }
   ],
   "source": [
    "## Split X, y  ()\n",
    "X = df_train_D1.drop('site_eui', axis=1)\n",
    "y = df_train_D1['site_eui']\n",
    "print (X.shape)\n",
    "print (y.shape)\n",
    "X.head()"
   ]
  },
  {
   "cell_type": "code",
   "execution_count": 121,
   "id": "90485266",
   "metadata": {},
   "outputs": [],
   "source": [
    "## Split data to \n",
    "# (1) train_all, test (80/20)\n",
    "# (2) train, validation and test  (60/20/20)\n",
    "X_train_all, X_test, y_train_all, y_test =  train_test_split(X,y, test_size=0.2, random_state=42)\n",
    "X_train, X_val, y_train, y_val =  train_test_split(X_train_all,y_train_all, test_size=0.25, random_state=42)"
   ]
  },
  {
   "cell_type": "code",
   "execution_count": 122,
   "id": "90cbf8b8",
   "metadata": {},
   "outputs": [],
   "source": [
    "## Scaling data based(based on training set)  \n",
    "from sklearn.preprocessing import MinMaxScaler\n",
    "scaler = MinMaxScaler()\n",
    "X_train_all_scaled = scaler.fit_transform(X_train_all)\n",
    "X_train_scaled = scaler.transform(X_train)\n",
    "X_val_scaled = scaler.transform(X_val)\n",
    "X_test_scaled = scaler.transform(X_test)"
   ]
  },
  {
   "cell_type": "code",
   "execution_count": null,
   "id": "ac35e0d0",
   "metadata": {},
   "outputs": [],
   "source": []
  },
  {
   "cell_type": "markdown",
   "id": "f478da71",
   "metadata": {},
   "source": [
    "## Start Train ML model"
   ]
  },
  {
   "cell_type": "code",
   "execution_count": 123,
   "id": "dfdc231c",
   "metadata": {},
   "outputs": [],
   "source": [
    "## Prediction accuracy\n",
    "import sklearn.metrics as metrics\n",
    "  \n",
    "def prediction_result(y_true, y_pred):\n",
    "    '''\n",
    "    Summary: predict and print out the statistic summary and return root-mean-square error \n",
    "    for model evaluation, \n",
    "    \n",
    "    parameters: y_true(float): actual site-eui of test data\n",
    "                y_pred(float): predited site-eui of test data\n",
    "    returns: rmse(float) between predicted site eui and actual s\n",
    "         \n",
    "    '''\n",
    "    explained_variance = metrics.explained_variance_score(y_true, y_pred)\n",
    "    mean_ae = metrics.mean_absolute_error(y_true, y_pred)\n",
    "    mse = metrics.mean_squared_error(y_true, y_pred)\n",
    "   # median_ae = metrics_median_absolute_error(y_true, y_pred)\n",
    "    r2 = metrics.r2_score(y_true, y_pred)\n",
    "    rmse = round(np.sqrt(mse), 5)\n",
    "    \n",
    "    print ('Explained variance: ', round(explained_variance, 5))\n",
    "    print ('Mean Absolute Error: ', round(mean_ae, 5))\n",
    "   # print ('Median Absolute Error: ', round(median_ae, 5))\n",
    "    print ('Mean Square Error: ', round(mse, 5))\n",
    "    print ('RMSE: ', rmse)\n",
    "    print ('R2 score: ', round(r2, 5))\n",
    "    \n",
    "    return rmse\n",
    "    "
   ]
  },
  {
   "cell_type": "code",
   "execution_count": null,
   "id": "bc82852a",
   "metadata": {},
   "outputs": [],
   "source": []
  },
  {
   "cell_type": "markdown",
   "id": "31ada8d4",
   "metadata": {},
   "source": [
    "### ML-1:XGBoost"
   ]
  },
  {
   "cell_type": "code",
   "execution_count": 130,
   "id": "4bbb2757",
   "metadata": {},
   "outputs": [
    {
     "name": "stdout",
     "output_type": "stream",
     "text": [
      "Explained variance:  0.52824\n",
      "Mean Absolute Error:  20.50386\n",
      "Mean Square Error:  1634.28446\n",
      "RMSE:  40.42628\n",
      "R2 score:  0.52823\n"
     ]
    }
   ],
   "source": [
    "## Step1: Test Baseline of XGBoostRegression (use only X_train to predict y_val)\n",
    "from xgboost import XGBRegressor\n",
    "\n",
    "xgbre = XGBRegressor(n_estimators=1000, max_depth=7, eta=0.1, subsample=0.7, colsample_bytree=0.8)\n",
    "xgbre.fit(X_train_scaled, y_train)\n",
    "\n",
    "# Predict\n",
    "y_pred_xgbre = pd.DataFrame(xgbre.predict(X_val_scaled), index=y_val.index)\n",
    "\n",
    "dump = prediction_result(y_val, y_pred_xgbre)"
   ]
  },
  {
   "cell_type": "code",
   "execution_count": 132,
   "id": "a0bea8fc",
   "metadata": {},
   "outputs": [
    {
     "name": "stdout",
     "output_type": "stream",
     "text": [
      "Explained variance:  0.52958\n",
      "Mean Absolute Error:  19.8153\n",
      "Mean Square Error:  1535.5798\n",
      "RMSE:  39.18647\n",
      "R2 score:  0.52958\n"
     ]
    }
   ],
   "source": [
    "## XGBoostRegression (use only X_train to predict y_test)\n",
    "from xgboost import XGBRegressor\n",
    "\n",
    "xgbre = XGBRegressor(n_estimators=1000, max_depth=7, eta=0.1, subsample=0.7, colsample_bytree=0.8)\n",
    "xgbre.fit(X_train_scaled, y_train)\n",
    "\n",
    "# Predict\n",
    "y_pred_xgbre = pd.DataFrame(xgbre.predict(X_test_scaled), index=y_test.index)\n",
    "\n",
    "dump = prediction_result(y_test, y_pred_xgbre)"
   ]
  },
  {
   "cell_type": "code",
   "execution_count": 124,
   "id": "063c2b62",
   "metadata": {},
   "outputs": [
    {
     "name": "stdout",
     "output_type": "stream",
     "text": [
      "Explained variance:  0.56058\n",
      "Mean Absolute Error:  19.47964\n",
      "Mean Square Error:  1504.8618\n",
      "RMSE:  38.79255\n",
      "R2 score:  0.56056\n"
     ]
    }
   ],
   "source": [
    "## XGBoostRegression (use X_train_all to predict y_test)\n",
    "from xgboost import XGBRegressor\n",
    "\n",
    "xgbre = XGBRegressor(n_estimators=1000, max_depth=7, eta=0.1, subsample=0.7, colsample_bytree=0.8)\n",
    "xgbre.fit(X_train_all_scaled, y_train_all)\n",
    "\n",
    "# Predict\n",
    "y_pred_xgbre = pd.DataFrame(xgbre.predict(X_test_scaled), index=y_test.index)\n",
    "\n",
    "dump = prediction_result(y_test, y_pred_xgbre)"
   ]
  },
  {
   "cell_type": "code",
   "execution_count": null,
   "id": "5dcc96f0",
   "metadata": {},
   "outputs": [],
   "source": []
  },
  {
   "cell_type": "code",
   "execution_count": null,
   "id": "ddcc55a3",
   "metadata": {},
   "outputs": [],
   "source": []
  },
  {
   "cell_type": "code",
   "execution_count": null,
   "id": "61a7cb39",
   "metadata": {},
   "outputs": [],
   "source": []
  },
  {
   "cell_type": "code",
   "execution_count": null,
   "id": "a7f0cf96",
   "metadata": {},
   "outputs": [],
   "source": []
  },
  {
   "cell_type": "markdown",
   "id": "98d520ad",
   "metadata": {},
   "source": []
  },
  {
   "cell_type": "code",
   "execution_count": null,
   "id": "d68b5c88",
   "metadata": {},
   "outputs": [],
   "source": [
    "\n"
   ]
  },
  {
   "cell_type": "code",
   "execution_count": null,
   "id": "0b43cbea",
   "metadata": {},
   "outputs": [],
   "source": []
  },
  {
   "cell_type": "code",
   "execution_count": null,
   "id": "f01ef333",
   "metadata": {},
   "outputs": [],
   "source": []
  }
 ],
 "metadata": {
  "kernelspec": {
   "display_name": "Python 3 (ipykernel)",
   "language": "python",
   "name": "python3"
  },
  "language_info": {
   "codemirror_mode": {
    "name": "ipython",
    "version": 3
   },
   "file_extension": ".py",
   "mimetype": "text/x-python",
   "name": "python",
   "nbconvert_exporter": "python",
   "pygments_lexer": "ipython3",
   "version": "3.10.1"
  }
 },
 "nbformat": 4,
 "nbformat_minor": 5
}
